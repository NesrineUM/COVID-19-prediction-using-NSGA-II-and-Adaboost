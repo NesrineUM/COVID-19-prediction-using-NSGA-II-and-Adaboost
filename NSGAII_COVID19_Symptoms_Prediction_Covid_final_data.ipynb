{
  "nbformat": 4,
  "nbformat_minor": 0,
  "metadata": {
    "kernelspec": {
      "display_name": "Python 3",
      "language": "python",
      "name": "python3"
    },
    "language_info": {
      "codemirror_mode": {
        "name": "ipython",
        "version": 3
      },
      "file_extension": ".py",
      "mimetype": "text/x-python",
      "name": "python",
      "nbconvert_exporter": "python",
      "pygments_lexer": "ipython3",
      "version": "3.7.3"
    },
    "colab": {
      "name": "10FINALNSGAII_COVID19 Symptoms Prediction_Covid_final_data.ipynb",
      "provenance": [],
      "collapsed_sections": [
        "prk5-3cjVu7T",
        "DM0-Ea4bVu7a",
        "d9SkMF8ZF65v",
        "PqbvLdoCcDrz",
        "SA1nGH79cP0j",
        "ZKQe7KwPk_Hd",
        "5o_xWPNq1sr6",
        "aFE-RmyujEBG"
      ]
    },
    "accelerator": "GPU"
  },
  "cells": [
    {
      "cell_type": "markdown",
      "metadata": {
        "id": "wsOs9j9gWuAV"
      },
      "source": [
        "#Mount Drive"
      ]
    },
    {
      "cell_type": "code",
      "metadata": {
        "id": "uCEHXrtpV3Oj",
        "colab": {
          "base_uri": "https://localhost:8080/"
        },
        "outputId": "2d82ace3-91df-43fa-c018-09b3b69a914b"
      },
      "source": [
        "from google.colab import drive\n",
        "drive.mount('/content/drive')"
      ],
      "execution_count": null,
      "outputs": [
        {
          "output_type": "stream",
          "text": [
            "Drive already mounted at /content/drive; to attempt to forcibly remount, call drive.mount(\"/content/drive\", force_remount=True).\n"
          ],
          "name": "stdout"
        }
      ]
    },
    {
      "cell_type": "markdown",
      "metadata": {
        "id": "vi1Mi5BuVu7I"
      },
      "source": [
        "### Importing the packages"
      ]
    },
    {
      "cell_type": "code",
      "metadata": {
        "id": "8Bo-iMO-Vu7L",
        "colab": {
          "base_uri": "https://localhost:8080/"
        },
        "outputId": "1dfbd26c-f891-4403-8a81-46db0531d11c"
      },
      "source": [
        "import numpy as np\n",
        "import pandas as pd\n",
        "import seaborn as sns\n",
        "import keras\n",
        "import sklearn\n",
        "import warnings\n",
        "import matplotlib.pyplot as plt\n",
        "from sklearn.metrics import accuracy_score,plot_roc_curve,log_loss,f1_score,precision_score,recall_score\n",
        "from sklearn.linear_model import LogisticRegression\n",
        "from sklearn.ensemble import RandomForestClassifier\n",
        "from sklearn.tree import DecisionTreeClassifier\n",
        "from sklearn.naive_bayes import GaussianNB\n",
        "from sklearn.svm import LinearSVC\n",
        "from sklearn.neural_network import MLPClassifier\n",
        "from xgboost import XGBClassifier\n",
        "import seaborn as sn\n",
        "from sklearn.naive_bayes import MultinomialNB\n",
        "from sklearn.svm import SVC\n",
        "from sklearn.ensemble import RandomForestClassifier, AdaBoostClassifier\n",
        "from sklearn.neighbors import KNeighborsClassifier\n",
        "from sklearn.pipeline import Pipeline\n",
        "from sklearn import model_selection\n",
        "from sklearn.metrics import confusion_matrix\n",
        "import numpy as np\n",
        "import pandas as pd\n",
        "import tensorflow as tf\n",
        "import matplotlib.pyplot as plt\n",
        "from sklearn import svm\n",
        "from sklearn.tree import DecisionTreeClassifier\n",
        "from sklearn.model_selection import train_test_split\n",
        "from keras.layers import Dense, Flatten, Dropout,LeakyReLU\n",
        "from keras.callbacks import ModelCheckpoint\n",
        "from sklearn.metrics import classification_report\n",
        "from sklearn.naive_bayes import MultinomialNB\n",
        "from sklearn.ensemble import GradientBoostingClassifier\n",
        "from keras.models import Sequential\n",
        "from mlxtend.feature_selection import SequentialFeatureSelector as SFS\n",
        "from sklearn.metrics import roc_auc_score\n",
        "warnings.simplefilter('ignore')\n",
        "\n",
        "%matplotlib inline\n"
      ],
      "execution_count": null,
      "outputs": [
        {
          "output_type": "stream",
          "text": [
            "/usr/local/lib/python3.6/dist-packages/sklearn/externals/joblib/__init__.py:15: FutureWarning: sklearn.externals.joblib is deprecated in 0.21 and will be removed in 0.23. Please import this functionality directly from joblib, which can be installed with: pip install joblib. If this warning is raised when loading pickled models, you may need to re-serialize those models with scikit-learn 0.21+.\n",
            "  warnings.warn(msg, category=FutureWarning)\n"
          ],
          "name": "stderr"
        }
      ]
    },
    {
      "cell_type": "markdown",
      "metadata": {
        "id": "Fnz1S3b4Sz8G"
      },
      "source": [
        ""
      ]
    },
    {
      "cell_type": "markdown",
      "metadata": {
        "id": "prk5-3cjVu7T"
      },
      "source": [
        "### Importing the dataset"
      ]
    },
    {
      "cell_type": "code",
      "metadata": {
        "id": "AAD33L4TVu7U"
      },
      "source": [
        "#Reading the DataSet\n",
        "df = pd.read_csv('/content/drive/My Drive/COVID19/COVID-19/covid_final_data.csv')"
      ],
      "execution_count": null,
      "outputs": []
    },
    {
      "cell_type": "markdown",
      "metadata": {
        "id": "DM0-Ea4bVu7a"
      },
      "source": [
        "### Dataset Attributes\n"
      ]
    },
    {
      "cell_type": "code",
      "metadata": {
        "id": "8XXClcAmVu7a",
        "colab": {
          "base_uri": "https://localhost:8080/"
        },
        "outputId": "820f2b0c-cc8d-4d1c-d977-2a34d01f4a8f"
      },
      "source": [
        "df.columns"
      ],
      "execution_count": null,
      "outputs": [
        {
          "output_type": "execute_result",
          "data": {
            "text/plain": [
              "Index(['AGE', 'GENDER', 'FEVER', 'COUGH', 'FATIGUE', 'PAINS',\n",
              "       'NASAL_CONGESTION', 'SHORTNESS_OF_BREATH', 'RUNNY_NOSE', 'SORE THROAT',\n",
              "       'DIARRHEA', 'CHILLS', 'HEADACHE', 'VOMITING', 'LIVES_IN_AFFECTED_AREA',\n",
              "       'COVID_OUTPUT'],\n",
              "      dtype='object')"
            ]
          },
          "metadata": {
            "tags": []
          },
          "execution_count": 4
        }
      ]
    },
    {
      "cell_type": "markdown",
      "metadata": {
        "id": "aCskJBsCVu7f"
      },
      "source": [
        "**Patient's Attribute**\n",
        "\n",
        "```\n",
        "1. Age: Patient's Age\n",
        "2. Gender: Male(1) or Female (0)\n",
        "3. Fever: Yes(1) or No(0)\n",
        "4. Cough: Yes(1) or No(0)\n",
        "5. Fatigue: Yes(1) or No(0)\n",
        "6. Pains: Yes(1) or No(0)\n",
        "7. Nasal Congestion: Yes(1) or No(0)\n",
        "8. Shortness of Breath: Yes(1) or No(0)\n",
        "9. Runny Nose: Yes(1) or No(0)\n",
        "10. Sore Throat: Yes(1) or No(0)\n",
        "11. Diarrhea: Yes(1) or No(0)\n",
        "12. Chills: Yes(1) or No(0)\n",
        "13. Headache: Yes(1) or No(0)\n",
        "14. Vomiting: Yes(1) or No(0)\n",
        "15. Lives in affected area: Yes(1) or No(0)\n",
        "---------------------------------------------\n",
        "16. Covid Output: Yes(1) or No(0)\n",
        "```"
      ]
    },
    {
      "cell_type": "code",
      "metadata": {
        "id": "vV4WSe_hVu7g",
        "colab": {
          "base_uri": "https://localhost:8080/"
        },
        "outputId": "090679b4-c9ff-4868-ce15-5235cea5db87"
      },
      "source": [
        "df.head()"
      ],
      "execution_count": null,
      "outputs": [
        {
          "output_type": "execute_result",
          "data": {
            "text/html": [
              "<div>\n",
              "<style scoped>\n",
              "    .dataframe tbody tr th:only-of-type {\n",
              "        vertical-align: middle;\n",
              "    }\n",
              "\n",
              "    .dataframe tbody tr th {\n",
              "        vertical-align: top;\n",
              "    }\n",
              "\n",
              "    .dataframe thead th {\n",
              "        text-align: right;\n",
              "    }\n",
              "</style>\n",
              "<table border=\"1\" class=\"dataframe\">\n",
              "  <thead>\n",
              "    <tr style=\"text-align: right;\">\n",
              "      <th></th>\n",
              "      <th>AGE</th>\n",
              "      <th>GENDER</th>\n",
              "      <th>FEVER</th>\n",
              "      <th>COUGH</th>\n",
              "      <th>FATIGUE</th>\n",
              "      <th>PAINS</th>\n",
              "      <th>NASAL_CONGESTION</th>\n",
              "      <th>SHORTNESS_OF_BREATH</th>\n",
              "      <th>RUNNY_NOSE</th>\n",
              "      <th>SORE THROAT</th>\n",
              "      <th>DIARRHEA</th>\n",
              "      <th>CHILLS</th>\n",
              "      <th>HEADACHE</th>\n",
              "      <th>VOMITING</th>\n",
              "      <th>LIVES_IN_AFFECTED_AREA</th>\n",
              "      <th>COVID_OUTPUT</th>\n",
              "    </tr>\n",
              "  </thead>\n",
              "  <tbody>\n",
              "    <tr>\n",
              "      <th>0</th>\n",
              "      <td>19</td>\n",
              "      <td>0</td>\n",
              "      <td>1</td>\n",
              "      <td>1</td>\n",
              "      <td>0</td>\n",
              "      <td>0</td>\n",
              "      <td>0</td>\n",
              "      <td>0</td>\n",
              "      <td>0</td>\n",
              "      <td>1</td>\n",
              "      <td>0</td>\n",
              "      <td>0</td>\n",
              "      <td>1</td>\n",
              "      <td>0</td>\n",
              "      <td>0</td>\n",
              "      <td>1</td>\n",
              "    </tr>\n",
              "    <tr>\n",
              "      <th>1</th>\n",
              "      <td>28</td>\n",
              "      <td>1</td>\n",
              "      <td>1</td>\n",
              "      <td>0</td>\n",
              "      <td>0</td>\n",
              "      <td>0</td>\n",
              "      <td>0</td>\n",
              "      <td>0</td>\n",
              "      <td>0</td>\n",
              "      <td>0</td>\n",
              "      <td>0</td>\n",
              "      <td>0</td>\n",
              "      <td>1</td>\n",
              "      <td>0</td>\n",
              "      <td>1</td>\n",
              "      <td>1</td>\n",
              "    </tr>\n",
              "    <tr>\n",
              "      <th>2</th>\n",
              "      <td>35</td>\n",
              "      <td>0</td>\n",
              "      <td>1</td>\n",
              "      <td>1</td>\n",
              "      <td>0</td>\n",
              "      <td>0</td>\n",
              "      <td>0</td>\n",
              "      <td>0</td>\n",
              "      <td>0</td>\n",
              "      <td>0</td>\n",
              "      <td>0</td>\n",
              "      <td>0</td>\n",
              "      <td>1</td>\n",
              "      <td>0</td>\n",
              "      <td>0</td>\n",
              "      <td>1</td>\n",
              "    </tr>\n",
              "    <tr>\n",
              "      <th>3</th>\n",
              "      <td>33</td>\n",
              "      <td>0</td>\n",
              "      <td>1</td>\n",
              "      <td>0</td>\n",
              "      <td>0</td>\n",
              "      <td>0</td>\n",
              "      <td>0</td>\n",
              "      <td>0</td>\n",
              "      <td>0</td>\n",
              "      <td>0</td>\n",
              "      <td>0</td>\n",
              "      <td>0</td>\n",
              "      <td>1</td>\n",
              "      <td>0</td>\n",
              "      <td>0</td>\n",
              "      <td>1</td>\n",
              "    </tr>\n",
              "    <tr>\n",
              "      <th>4</th>\n",
              "      <td>33</td>\n",
              "      <td>0</td>\n",
              "      <td>1</td>\n",
              "      <td>0</td>\n",
              "      <td>0</td>\n",
              "      <td>0</td>\n",
              "      <td>0</td>\n",
              "      <td>0</td>\n",
              "      <td>0</td>\n",
              "      <td>0</td>\n",
              "      <td>0</td>\n",
              "      <td>0</td>\n",
              "      <td>1</td>\n",
              "      <td>0</td>\n",
              "      <td>0</td>\n",
              "      <td>1</td>\n",
              "    </tr>\n",
              "  </tbody>\n",
              "</table>\n",
              "</div>"
            ],
            "text/plain": [
              "   AGE  GENDER  FEVER  ...  VOMITING  LIVES_IN_AFFECTED_AREA  COVID_OUTPUT\n",
              "0   19       0      1  ...         0                       0             1\n",
              "1   28       1      1  ...         0                       1             1\n",
              "2   35       0      1  ...         0                       0             1\n",
              "3   33       0      1  ...         0                       0             1\n",
              "4   33       0      1  ...         0                       0             1\n",
              "\n",
              "[5 rows x 16 columns]"
            ]
          },
          "metadata": {
            "tags": []
          },
          "execution_count": 5
        }
      ]
    },
    {
      "cell_type": "code",
      "metadata": {
        "id": "LKavALzT9rLE",
        "colab": {
          "base_uri": "https://localhost:8080/"
        },
        "outputId": "da1abb55-7b83-44d4-eee8-111fc5517ba5"
      },
      "source": [
        "df.isnull().sum()"
      ],
      "execution_count": null,
      "outputs": [
        {
          "output_type": "execute_result",
          "data": {
            "text/plain": [
              "AGE                       0\n",
              "GENDER                    0\n",
              "FEVER                     0\n",
              "COUGH                     0\n",
              "FATIGUE                   0\n",
              "PAINS                     0\n",
              "NASAL_CONGESTION          0\n",
              "SHORTNESS_OF_BREATH       0\n",
              "RUNNY_NOSE                0\n",
              "SORE THROAT               0\n",
              "DIARRHEA                  0\n",
              "CHILLS                    0\n",
              "HEADACHE                  0\n",
              "VOMITING                  0\n",
              "LIVES_IN_AFFECTED_AREA    0\n",
              "COVID_OUTPUT              0\n",
              "dtype: int64"
            ]
          },
          "metadata": {
            "tags": []
          },
          "execution_count": 6
        }
      ]
    },
    {
      "cell_type": "code",
      "metadata": {
        "id": "4UGCNe-6S-do",
        "colab": {
          "base_uri": "https://localhost:8080/"
        },
        "outputId": "48c3440b-96c3-4ae5-d8f3-e4dd9709a1bc"
      },
      "source": [
        "np.shape(df)"
      ],
      "execution_count": null,
      "outputs": [
        {
          "output_type": "execute_result",
          "data": {
            "text/plain": [
              "(1495, 16)"
            ]
          },
          "metadata": {
            "tags": []
          },
          "execution_count": 7
        }
      ]
    },
    {
      "cell_type": "markdown",
      "metadata": {
        "id": "d9SkMF8ZF65v"
      },
      "source": [
        "#Number of samples ( Covid(1) and Non covid(0))"
      ]
    },
    {
      "cell_type": "code",
      "metadata": {
        "id": "yGCOJbpWFtZL",
        "colab": {
          "base_uri": "https://localhost:8080/"
        },
        "outputId": "9c724210-10b1-46ab-def2-acfb97c503e8"
      },
      "source": [
        "df['COVID_OUTPUT'].value_counts().head()"
      ],
      "execution_count": null,
      "outputs": [
        {
          "output_type": "execute_result",
          "data": {
            "text/plain": [
              "1    757\n",
              "0    738\n",
              "Name: COVID_OUTPUT, dtype: int64"
            ]
          },
          "metadata": {
            "tags": []
          },
          "execution_count": 8
        }
      ]
    },
    {
      "cell_type": "code",
      "metadata": {
        "id": "j3gcXIaiTDvG",
        "colab": {
          "base_uri": "https://localhost:8080/"
        },
        "outputId": "2b2e3dcf-cb04-4b36-82e3-7b730338d14a"
      },
      "source": [
        "sns.set(style=\"darkgrid\")\n",
        "sn.countplot(df[\"COVID_OUTPUT\"])\n",
        "plt.show()"
      ],
      "execution_count": null,
      "outputs": [
        {
          "output_type": "display_data",
          "data": {
            "image/png": "[encoded data removed]",
            "text/plain": [
              "<Figure size 432x288 with 1 Axes>"
            ]
          },
          "metadata": {
            "tags": []
          }
        }
      ]
    },
    {
      "cell_type": "markdown",
      "metadata": {
        "id": "PqbvLdoCcDrz"
      },
      "source": [
        "#Split dataset "
      ]
    },
    {
      "cell_type": "code",
      "metadata": {
        "id": "ZHOummL-wOEu"
      },
      "source": [
        "X=df.values[:,0:15]\n",
        "y=df.values[:,15]"
      ],
      "execution_count": null,
      "outputs": []
    },
    {
      "cell_type": "code",
      "metadata": {
        "colab": {
          "base_uri": "https://localhost:8080/"
        },
        "id": "h4DkRNs2p3Mi",
        "outputId": "d07277b8-078f-4939-8659-5d4de8817755"
      },
      "source": [
        "X.shape\n"
      ],
      "execution_count": null,
      "outputs": [
        {
          "output_type": "execute_result",
          "data": {
            "text/plain": [
              "(1495, 15)"
            ]
          },
          "metadata": {
            "tags": []
          },
          "execution_count": 11
        }
      ]
    },
    {
      "cell_type": "markdown",
      "metadata": {
        "id": "XdQp97acVu71"
      },
      "source": [
        "#### Spliting the dataset into test and train"
      ]
    },
    {
      "cell_type": "code",
      "metadata": {
        "id": "onTFyyuoVu72"
      },
      "source": [
        "from sklearn.model_selection import train_test_split\n",
        "X_train, X_test, y_train, y_test = train_test_split(X,y,test_size=0.30)"
      ],
      "execution_count": null,
      "outputs": []
    },
    {
      "cell_type": "code",
      "metadata": {
        "id": "xM3d8IeMmK87"
      },
      "source": [
        "feat_labels=['AGE', 'GENDER', 'FEVER', 'COUGH', 'FATIGUE', 'PAINS',\n",
        "       'NASAL_CONGESTION', 'SHORTNESS_OF_BREATH', 'RUNNY_NOSE', 'SORE THROAT',\n",
        "       'DIARRHEA', 'CHILLS', 'HEADACHE', 'VOMITING', 'LIVES_IN_AFFECTED_AREA']"
      ],
      "execution_count": null,
      "outputs": []
    },
    {
      "cell_type": "markdown",
      "metadata": {
        "id": "SA1nGH79cP0j"
      },
      "source": [
        "#Metrics"
      ]
    },
    {
      "cell_type": "code",
      "metadata": {
        "id": "v0imP0hJUDxm"
      },
      "source": [
        "def calculate_sensitivity_specificity(y_test, y_pred_test):\n",
        "    # Note: More parameters are defined than necessary. \n",
        "    # This would allow return of other measures other than sensitivity and specificity\n",
        "    \n",
        "    # Get true/false for whether a breach actually occurred\n",
        "    actual_pos = y_test == 1\n",
        "    actual_neg = y_test == 0\n",
        "    \n",
        "    # Get true and false test (true test match actual, false tests differ from actual)\n",
        "    true_pos = (y_pred_test == 1) & (actual_pos)\n",
        "    false_pos = (y_pred_test == 1) & (actual_neg)\n",
        "    true_neg = (y_pred_test == 0) & (actual_neg)\n",
        "    false_neg = (y_pred_test == 0) & (actual_pos)\n",
        "    \n",
        "    # Calculate accuracy\n",
        "    accuracy = np.mean(y_pred_test == y_test)\n",
        "    \n",
        "    # Calculate sensitivity and specificity\n",
        "    sensitivity = np.sum(true_pos) / np.sum(actual_pos)\n",
        "    specificity = np.sum(true_neg) / np.sum(actual_neg)\n",
        "    \n",
        "    return sensitivity, specificity, accuracy"
      ],
      "execution_count": null,
      "outputs": []
    },
    {
      "cell_type": "markdown",
      "metadata": {
        "id": "ZKQe7KwPk_Hd"
      },
      "source": [
        "#AdaBoost classifier"
      ]
    },
    {
      "cell_type": "code",
      "metadata": {
        "id": "gemOi-ebhzx_",
        "colab": {
          "base_uri": "https://localhost:8080/"
        },
        "outputId": "c67fd1cd-f76f-4e62-c674-077448696801"
      },
      "source": [
        "feat_cols = [2,3,4,6,10,12,14]\n",
        "print(feat_cols)\n",
        "\n",
        "abc= AdaBoostClassifier(\n",
        "    DecisionTreeClassifier(random_state=20, max_depth=2,min_samples_leaf=1, min_samples_split=2 ), learning_rate=0.01,\n",
        "    random_state = 208, n_estimators=1000)\n",
        "abc.fit(X_train, y_train)\n",
        "#Predict the response for test dataset\n",
        "y_predadb = abc.predict(X_test)\n",
        "accuracy_score(y_test,y_predadb)\n",
        "p=precision_score(y_test, y_predadb)\n",
        "r=recall_score(y_test, y_predadb)\n",
        "f=f1_score(y_test, y_predadb)\n",
        "auc=roc_auc_score(y_test, y_predadb)\n",
        "sensitivity, specificity, accuracy = calculate_sensitivity_specificity(y_test, y_predadb)\n",
        "\n",
        "print(\"---------------------- ADABoost Classifier with NSGA-II Feature Selection------------------\")\n",
        "\n",
        "abc1= AdaBoostClassifier(\n",
        "    DecisionTreeClassifier(max_depth=6,min_samples_leaf=1, min_samples_split=2 ), learning_rate=0.01, n_estimators=1000)\n",
        "\n",
        "abc1.fit(X_train[:,feat_cols], y_train)\n",
        "y_predadb = abc1.predict(X_test[:,feat_cols])\n",
        "accuracy_score(y_test,y_predadb)\n",
        "p=precision_score(y_test, y_predadb)\n",
        "r=recall_score(y_test, y_predadb)\n",
        "f=f1_score(y_test, y_predadb)\n",
        "auc=roc_auc_score(y_test, y_predadb)\n",
        "sensitivity, specificity, accuracy = calculate_sensitivity_specificity(y_test, y_predadb)\n",
        "print (\"Accuracy:    %.2f%%\"  %  (accuracy*100))\n",
        "print (\"Sensitivity:   %.2f%%\"  %  (sensitivity*100))\n",
        "print (\"Specificity:  %.2f%%\"  %  (specificity*100))\n",
        "print (\"Precision:  %.2f%%\"  %  (p*100))\n",
        "print (\"Recall:  %.2f%%\"  %  (r*100))\n",
        "print (\"F1_score: %.2f%%\"  %  (f*100))\n",
        "print (\"AUC: %.2f%%\"  %  (auc*100))\n"
      ],
      "execution_count": null,
      "outputs": [
        {
          "output_type": "stream",
          "text": [
            "[2, 3, 4, 6, 10, 12, 14]\n",
            "---------------------- ADABoost Classifier with NSGA-II Feature Selection------------------\n",
            "Accuracy:    81.96%\n",
            "Sensitivity:   88.26%\n",
            "Specificity:  76.27%\n",
            "Precision:  77.05%\n",
            "Recall:  88.26%\n",
            "F1_score: 82.28%\n",
            "AUC: 82.27%\n"
          ],
          "name": "stdout"
        }
      ]
    },
    {
      "cell_type": "code",
      "metadata": {
        "id": "gdTUniMA9bWd",
        "colab": {
          "base_uri": "https://localhost:8080/"
        },
        "outputId": "518c1ec0-e4cf-4a60-b37f-aaf93a26cab3"
      },
      "source": [
        "confusion_matrix(y_test, y_predadb)"
      ],
      "execution_count": null,
      "outputs": [
        {
          "output_type": "execute_result",
          "data": {
            "text/plain": [
              "array([[180,  56],\n",
              "       [ 25, 188]])"
            ]
          },
          "metadata": {
            "tags": []
          },
          "execution_count": 16
        }
      ]
    },
    {
      "cell_type": "code",
      "metadata": {
        "id": "hlMCZOlz93O0",
        "colab": {
          "base_uri": "https://localhost:8080/"
        },
        "outputId": "426ff972-2e13-4c83-9ae3-d2e85ad9af3c"
      },
      "source": [
        "from sklearn.metrics import classification_report\n",
        "print(classification_report(y_test,y_predadb))"
      ],
      "execution_count": null,
      "outputs": [
        {
          "output_type": "stream",
          "text": [
            "              precision    recall  f1-score   support\n",
            "\n",
            "           0       0.88      0.76      0.82       236\n",
            "           1       0.77      0.88      0.82       213\n",
            "\n",
            "    accuracy                           0.82       449\n",
            "   macro avg       0.82      0.82      0.82       449\n",
            "weighted avg       0.83      0.82      0.82       449\n",
            "\n"
          ],
          "name": "stdout"
        }
      ]
    },
    {
      "cell_type": "markdown",
      "metadata": {
        "id": "5o_xWPNq1sr6"
      },
      "source": [
        "#MLP Classifier"
      ]
    },
    {
      "cell_type": "code",
      "metadata": {
        "id": "tZe8W8-11qk0"
      },
      "source": [
        "#Initializing the MLPClassifier\n",
        "classifier = MLPClassifier(hidden_layer_sizes=(150,100,50), max_iter=500,activation = 'relu',solver='adam',random_state=13,validation_fraction=0.2)"
      ],
      "execution_count": null,
      "outputs": []
    },
    {
      "cell_type": "code",
      "metadata": {
        "id": "lSGQ9BdM9P56",
        "colab": {
          "base_uri": "https://localhost:8080/"
        },
        "outputId": "e5d20fa8-84b0-4b61-e2c8-a9168848c7cd"
      },
      "source": [
        "classifier.fit(X_train, y_train)"
      ],
      "execution_count": null,
      "outputs": [
        {
          "output_type": "execute_result",
          "data": {
            "text/plain": [
              "MLPClassifier(activation='relu', alpha=0.0001, batch_size='auto', beta_1=0.9,\n",
              "              beta_2=0.999, early_stopping=False, epsilon=1e-08,\n",
              "              hidden_layer_sizes=(150, 100, 50), learning_rate='constant',\n",
              "              learning_rate_init=0.001, max_fun=15000, max_iter=500,\n",
              "              momentum=0.9, n_iter_no_change=10, nesterovs_momentum=True,\n",
              "              power_t=0.5, random_state=13, shuffle=True, solver='adam',\n",
              "              tol=0.0001, validation_fraction=0.2, verbose=False,\n",
              "              warm_start=False)"
            ]
          },
          "metadata": {
            "tags": []
          },
          "execution_count": 19
        }
      ]
    },
    {
      "cell_type": "code",
      "metadata": {
        "id": "pSo1jBXi9U2i",
        "colab": {
          "base_uri": "https://localhost:8080/"
        },
        "outputId": "16da5844-d496-40cd-b505-b51f1c5e5c57"
      },
      "source": [
        "feat_cols = [2,3,4,6,10,12,14]\n",
        "print(feat_cols)\n"
      ],
      "execution_count": null,
      "outputs": [
        {
          "output_type": "stream",
          "text": [
            "[2, 3, 4, 6, 10, 12, 14]\n"
          ],
          "name": "stdout"
        }
      ]
    },
    {
      "cell_type": "code",
      "metadata": {
        "id": "gc5_QA_EBR8d",
        "colab": {
          "base_uri": "https://localhost:8080/"
        },
        "outputId": "4d6fd3cd-b067-4ffc-908f-15bd4ed8dca4"
      },
      "source": [
        "classifier1 = MLPClassifier(hidden_layer_sizes=(30,20,20), max_iter=500,activation = 'relu',alpha=1e-5,solver='adam',random_state=16)\n",
        "\n",
        "classifier1.fit(X_train[:,feat_cols], y_train)\n",
        "y_predmlp1 = classifier1.predict(X_test[:,feat_cols])\n",
        "\n",
        "accuracy_score(y_test,y_predmlp1)\n",
        "p=precision_score(y_test, y_predmlp1)\n",
        "r=recall_score(y_test, y_predmlp1)\n",
        "f=f1_score(y_test, y_predmlp1)\n",
        "auc=roc_auc_score(y_test, y_predmlp1)\n",
        "sensitivity, specificity, accuracy = calculate_sensitivity_specificity(y_test, y_predmlp1)\n",
        "print(\"------------ MPL classifier Results with Feature selection-------------------\")\n",
        "\n",
        "print (\"Accuracy:    %.2f%%\"  %  (accuracy*100))\n",
        "print (\"Sensitivity:   %.2f%%\"  %  (sensitivity*100))\n",
        "print (\"Specificity:  %.2f%%\"  %  (specificity*100))\n",
        "print (\"Precision:  %.2f%%\"  %  (p*100))\n",
        "print (\"Recall:  %.2f%%\"  %  (r*100))\n",
        "print (\"F1_score: %.2f%%\"  %  (f*100))\n",
        "print (\"AUC: %.2f%%\"  %  (auc*100))"
      ],
      "execution_count": null,
      "outputs": [
        {
          "output_type": "stream",
          "text": [
            "------------ MPL classifier Results with Feature selection-------------------\n",
            "Accuracy:    82.41%\n",
            "Sensitivity:   88.73%\n",
            "Specificity:  76.69%\n",
            "Precision:  77.46%\n",
            "Recall:  88.73%\n",
            "F1_score: 82.71%\n",
            "AUC: 82.71%\n"
          ],
          "name": "stdout"
        }
      ]
    },
    {
      "cell_type": "markdown",
      "metadata": {
        "id": "aFE-RmyujEBG"
      },
      "source": [
        "#XGBoost Classifier"
      ]
    },
    {
      "cell_type": "code",
      "metadata": {
        "id": "Vffrxv9ljDsy",
        "colab": {
          "base_uri": "https://localhost:8080/"
        },
        "outputId": "2ae3f596-ca44-42c9-a52a-e8bae75c0a4a"
      },
      "source": [
        "feat_cols = [2,3,4,6,10,12,14]\n",
        "print(feat_cols)\n",
        "\n",
        "xgboost1 = XGBClassifier(max_depth=7,learning_rate=0.1,n_estimators=1000,random_state=178, subsample= 0.9,colsample_bytree=1,\n",
        "gamma= 5)\n",
        "#xgboost1 = XGBClassifier(learning_rate=0.01,n_estimators=100,random_state=78,max_depth=12)\n",
        "\n",
        "xgboost1.fit(X_train[:,feat_cols], y_train)\n",
        "# make predictions for test data\n",
        "predxgboost1 = xgboost1.predict(X_test[:,feat_cols])\n",
        "#predictions1 = [round(value) for value in predxgboost]\n",
        "# make predictions for test data\n",
        "accuracy_score(y_test,predxgboost1)\n",
        "p=precision_score(y_test, predxgboost1)\n",
        "r=recall_score(y_test, predxgboost1)\n",
        "f=f1_score(y_test, predxgboost1)\n",
        "auc=roc_auc_score(y_test, predxgboost1)\n",
        "sensitivity, specificity, accuracy = calculate_sensitivity_specificity(y_test, predxgboost1)\n",
        "print (\"Accuracy:    %.2f%%\"  %  (accuracy*100))\n",
        "print (\"Sensitivity:   %.2f%%\"  %  (sensitivity*100))\n",
        "print (\"Specificity:  %.2f%%\"  %  (specificity*100))\n",
        "print (\"Precision:  %.2f%%\"  %  (p*100))\n",
        "print (\"Recall:  %.2f%%\"  %  (r*100))\n",
        "print (\"F1_score: %.2f%%\"  %  (f*100))\n",
        "print (\"AUC: %.2f%%\"  %  (auc*100))"
      ],
      "execution_count": null,
      "outputs": [
        {
          "output_type": "stream",
          "text": [
            "[2, 3, 4, 6, 10, 12, 14]\n",
            "Accuracy:    82.18%\n",
            "Sensitivity:   86.85%\n",
            "Specificity:  77.97%\n",
            "Precision:  78.06%\n",
            "Recall:  86.85%\n",
            "F1_score: 82.22%\n",
            "AUC: 82.41%\n"
          ],
          "name": "stdout"
        }
      ]
    },
    {
      "cell_type": "markdown",
      "metadata": {
        "id": "We2iIsjDXFST"
      },
      "source": [
        "#SVM"
      ]
    },
    {
      "cell_type": "code",
      "metadata": {
        "id": "7JrpPMNIXE8X",
        "colab": {
          "base_uri": "https://localhost:8080/"
        },
        "outputId": "f71fc7a6-7541-4ac0-a278-24190bcc9026"
      },
      "source": [
        "feat_cols = [2,3,4,6,10,12,14]\n",
        "print(feat_cols)\n",
        "#Create a svm Classifier\n",
        "SVM1 = svm.SVC(kernel='linear',C=0.01) # Linear Kernel\n",
        "\n",
        "#Train the model using the training sets\n",
        "SVM1.fit(X_train[:, feat_cols], y_train)\n",
        "\n",
        "#Predict the response for test dataset\n",
        "y_predsvm1 = SVM1.predict(X_test[:,feat_cols])\n",
        "p=precision_score(y_test, y_predsvm1)\n",
        "r=recall_score(y_test, y_predsvm1)\n",
        "f=f1_score(y_test, y_predsvm1)\n",
        "auc=roc_auc_score(y_test, y_predsvm1)\n",
        "\n",
        "sensitivity, specificity, accuracy = calculate_sensitivity_specificity(y_test, y_predsvm1)\n",
        "print (\"Accuracy:    %.2f%%\"  %  (accuracy*100))\n",
        "print (\"Sensitivity:   %.2f%%\"  %  (sensitivity*100))\n",
        "print (\"Specificity:  %.2f%%\"  %  (specificity*100))\n",
        "print (\"Precision:  %.2f%%\"  %  (p*100))\n",
        "print (\"Recall:  %.2f%%\"  %  (r*100))\n",
        "print (\"F1_score: %.2f%%\"  %  (f*100))\n",
        "print (\"AUC: %.2f%%\"  %  (auc*100))"
      ],
      "execution_count": null,
      "outputs": [
        {
          "output_type": "stream",
          "text": [
            "[2, 3, 4, 6, 10, 12, 14]\n",
            "Accuracy:    75.72%\n",
            "Sensitivity:   76.53%\n",
            "Specificity:  75.00%\n",
            "Precision:  73.42%\n",
            "Recall:  76.53%\n",
            "F1_score: 74.94%\n",
            "AUC: 75.76%\n"
          ],
          "name": "stdout"
        }
      ]
    },
    {
      "cell_type": "markdown",
      "metadata": {
        "id": "kWImtV6FYgy_"
      },
      "source": [
        "#Random Forest Classifier\n",
        "\n"
      ]
    },
    {
      "cell_type": "code",
      "metadata": {
        "id": "Gf_hpdVjpxot",
        "colab": {
          "base_uri": "https://localhost:8080/"
        },
        "outputId": "a1e41d11-73e7-464b-e58e-78ba20f5bc92"
      },
      "source": [
        "feat_cols = [2,3,4,6,10,12,14]\n",
        "print(feat_cols)"
      ],
      "execution_count": null,
      "outputs": [
        {
          "output_type": "stream",
          "text": [
            "[2, 3, 4, 6, 10, 12, 14]\n"
          ],
          "name": "stdout"
        }
      ]
    },
    {
      "cell_type": "code",
      "metadata": {
        "id": "G9GFUR_jY-ga",
        "colab": {
          "base_uri": "https://localhost:8080/"
        },
        "outputId": "ba94dd1b-338e-4551-e59a-9f0d6fc8ef8d"
      },
      "source": [
        "#Import Random Forest Model\n",
        "from sklearn.ensemble import RandomForestClassifier\n",
        "\n",
        "\n",
        "#Create a Gaussian Classifier\n",
        "RFC1=RandomForestClassifier(n_estimators=1000,random_state=450,max_depth=5,min_samples_leaf=4)\n",
        "\n",
        "#RFC1=RandomForestClassifier(n_estimators=2000,random_state=450)\n",
        "#Train the model using the training sets y_pred=clf.predict(X_test)\n",
        "RFC1.fit(X_train[:,feat_cols],y_train)\n",
        "y_predrf1=RFC1.predict(X_test[:,feat_cols])\n",
        "p=precision_score(y_test, y_predrf1)\n",
        "r=recall_score(y_test, y_predrf1)\n",
        "f=f1_score(y_test, y_predrf1)\n",
        "auc=roc_auc_score(y_test, y_predrf1)\n",
        "\n",
        "sensitivity, specificity, accuracy = calculate_sensitivity_specificity(y_test, y_predrf1)\n",
        "print (\"Accuracy:    %.2f%%\"  %  (accuracy*100))\n",
        "print (\"Sensitivity:   %.2f%%\"  %  (sensitivity*100))\n",
        "print (\"Specificity:  %.2f%%\"  %  (specificity*100))\n",
        "print (\"Precision:  %.2f%%\"  %  (p*100))\n",
        "print (\"Recall:  %.2f%%\"  %  (r*100))\n",
        "print (\"F1_score: %.2f%%\"  %  (f*100))\n",
        "print (\"AUC: %.2f%%\"  %  (auc*100))\n"
      ],
      "execution_count": null,
      "outputs": [
        {
          "output_type": "stream",
          "text": [
            "Accuracy:    81.29%\n",
            "Sensitivity:   80.28%\n",
            "Specificity:  82.20%\n",
            "Precision:  80.28%\n",
            "Recall:  80.28%\n",
            "F1_score: 80.28%\n",
            "AUC: 81.24%\n"
          ],
          "name": "stdout"
        }
      ]
    },
    {
      "cell_type": "markdown",
      "metadata": {
        "id": "NWS-ZGCCafC3"
      },
      "source": [
        "#Logistic Regression"
      ]
    },
    {
      "cell_type": "code",
      "metadata": {
        "id": "nFB6X7A-ZEYa",
        "colab": {
          "base_uri": "https://localhost:8080/"
        },
        "outputId": "a97d4856-bcb3-4197-aa52-20080e2c4392"
      },
      "source": [
        "feat_cols = [2,3,4,6,10,12,14]\n",
        "print(feat_cols)\n",
        "\n",
        "lr1 = LogisticRegression(random_state=999)\n",
        "lr1.fit(X_train[:,feat_cols],y_train)\n",
        "y_predlr1=lr1.predict(X_test[:,feat_cols])\n",
        "p=precision_score(y_test, y_predlr1)\n",
        "r=recall_score(y_test, y_predlr1)\n",
        "f=f1_score(y_test, y_predlr1)\n",
        "auc=roc_auc_score(y_test, y_predlr1)\n",
        "\n",
        "sensitivity, specificity, accuracy = calculate_sensitivity_specificity(y_test, y_predlr1)\n",
        "print (\"Accuracy:    %.2f%%\"  %  (accuracy*100))\n",
        "print (\"Sensitivity:   %.2f%%\"  %  (sensitivity*100))\n",
        "print (\"Specificity:  %.2f%%\"  %  (specificity*100))\n",
        "print (\"Precision:  %.2f%%\"  %  (p*100))\n",
        "print (\"Recall:  %.2f%%\"  %  (r*100))\n",
        "print (\"F1_score: %.2f%%\"  %  (f*100))\n",
        "print (\"AUC: %.2f%%\"  %  (auc*100))\n",
        "\n",
        "\n"
      ],
      "execution_count": null,
      "outputs": [
        {
          "output_type": "stream",
          "text": [
            "[2, 3, 4, 6, 10, 12, 14]\n",
            "Accuracy:    80.18%\n",
            "Sensitivity:   81.69%\n",
            "Specificity:  78.81%\n",
            "Precision:  77.68%\n",
            "Recall:  81.69%\n",
            "F1_score: 79.63%\n",
            "AUC: 80.25%\n"
          ],
          "name": "stdout"
        }
      ]
    },
    {
      "cell_type": "markdown",
      "metadata": {
        "id": "TBNLsN32ii04"
      },
      "source": [
        "\n",
        "#Decision Tree classifier"
      ]
    },
    {
      "cell_type": "code",
      "metadata": {
        "id": "JRmTmFbpinIY",
        "colab": {
          "base_uri": "https://localhost:8080/"
        },
        "outputId": "47e80c4f-1530-4fb7-d55a-34f97798f931"
      },
      "source": [
        "feat_cols = [2,3,4,6,10,12,14]\n",
        "print(feat_cols)\n",
        "dtc1 = DecisionTreeClassifier(random_state=0, max_depth=4)\n",
        "dtc1.fit(X_train[:,feat_cols],y_train)\n",
        "pred_dtc1=dtc1.predict(X_test[:,feat_cols])\n",
        "p=precision_score(y_test, pred_dtc1)\n",
        "r=recall_score(y_test, pred_dtc1)\n",
        "f=f1_score(y_test, pred_dtc1)\n",
        "auc=roc_auc_score(y_test, pred_dtc1)\n",
        "\n",
        "sensitivity, specificity, accuracy = calculate_sensitivity_specificity(y_test, pred_dtc1)\n",
        "print (\"Accuracy:    %.2f%%\"  %  (accuracy*100))\n",
        "print (\"Sensitivity:   %.2f%%\"  %  (sensitivity*100))\n",
        "print (\"Specificity:  %.2f%%\"  %  (specificity*100))\n",
        "print (\"Precision:  %.2f%%\"  %  (p*100))\n",
        "print (\"Recall:  %.2f%%\"  %  (r*100))\n",
        "print (\"F1_score: %.2f%%\"  %  (f*100))\n",
        "print (\"AUC: %.2f%%\"  %  (auc*100))\n"
      ],
      "execution_count": null,
      "outputs": [
        {
          "output_type": "stream",
          "text": [
            "[2, 3, 4, 6, 10, 12, 14]\n",
            "Accuracy:    82.41%\n",
            "Sensitivity:   87.32%\n",
            "Specificity:  77.97%\n",
            "Precision:  78.15%\n",
            "Recall:  87.32%\n",
            "F1_score: 82.48%\n",
            "AUC: 82.65%\n"
          ],
          "name": "stdout"
        }
      ]
    },
    {
      "cell_type": "markdown",
      "metadata": {
        "id": "XXPx1B29juII"
      },
      "source": [
        "# Gradient Boosting"
      ]
    },
    {
      "cell_type": "code",
      "metadata": {
        "id": "IEPFO6gNjv1C",
        "colab": {
          "base_uri": "https://localhost:8080/"
        },
        "outputId": "21af0d5e-686a-4614-bb31-2e6cf6a28ea5"
      },
      "source": [
        "feat_cols = [2,3,4,6,10,12,14]\n",
        "print(feat_cols)\n",
        "GBC1=GradientBoostingClassifier(learning_rate=1,n_estimators=100 ,max_depth=2)\n",
        "GBC1.fit(X_train[:, feat_cols], y_train)\n",
        "y_test_pred1 = GBC1.predict(X_test[:, feat_cols])\n",
        "#accuracy_score(y_test,y_test_pred)\n",
        "p=precision_score(y_test, y_test_pred1)\n",
        "r=recall_score(y_test, y_test_pred1)\n",
        "f=f1_score(y_test, y_test_pred1)\n",
        "auc=roc_auc_score(y_test, y_test_pred1)\n",
        "\n",
        "sensitivity, specificity, accuracy = calculate_sensitivity_specificity(y_test, y_test_pred1)\n",
        "\n",
        "print (\"Accuracy:    %.2f%%\"  %  (accuracy*100))\n",
        "print (\"Sensitivity:   %.2f%%\"  %  (sensitivity*100))\n",
        "print (\"Specificity:  %.2f%%\"  %  (specificity*100))\n",
        "print (\"Precision:  %.2f%%\"  %  (p*100))\n",
        "print (\"Recall:  %.2f%%\"  %  (r*100))\n",
        "print (\"F1_score: %.2f%%\"  %  (f*100))\n",
        "print (\"AUC: %.2f%%\"  %  (auc*100))\n"
      ],
      "execution_count": null,
      "outputs": [
        {
          "output_type": "stream",
          "text": [
            "[2, 3, 4, 6, 10, 12, 14]\n",
            "Accuracy:    82.63%\n",
            "Sensitivity:   89.20%\n",
            "Specificity:  76.69%\n",
            "Precision:  77.55%\n",
            "Recall:  89.20%\n",
            "F1_score: 82.97%\n",
            "AUC: 82.95%\n"
          ],
          "name": "stdout"
        }
      ]
    },
    {
      "cell_type": "markdown",
      "metadata": {
        "id": "AH3emWG3Vu7-"
      },
      "source": [
        "# Area Under Curve Analysis : Without SFS\n",
        "\n"
      ]
    },
    {
      "cell_type": "code",
      "metadata": {
        "id": "8vAiAqxJVu7_",
        "colab": {
          "base_uri": "https://localhost:8080/",
          "height": 639
        },
        "outputId": "bd9f3852-1d16-4678-ad72-57f40b5f638c"
      },
      "source": [
        "plt.rcParams[\"figure.figsize\"] = [10,6]\n",
        "disp = plot_roc_curve(classifier,X_test,y_test)\n",
        "plt.title(' Area Under Curve Analysis\\n Without SFS Feature Selector')\n",
        "plot_roc_curve(abc,X_test,y_test,ax=disp.ax_)\n",
        "plot_roc_curve(xgboost,X_test,y_test,ax=disp.ax_)\n",
        "plot_roc_curve(SVM,X_test,y_test,ax=disp.ax_)\n",
        "plot_roc_curve(RFC,X_test,y_test,ax=disp.ax_)\n",
        "plot_roc_curve(lr,X_test,y_test,ax=disp.ax_)\n",
        "plot_roc_curve(dtc,X_test,y_test,ax=disp.ax_)\n",
        "plot_roc_curve(GBC,X_test,y_test,ax=disp.ax_)"
      ],
      "execution_count": null,
      "outputs": [
        {
          "output_type": "error",
          "ename": "NameError",
          "evalue": "ignored",
          "traceback": [
            "\u001b[0;31m---------------------------------------------------------------------------\u001b[0m",
            "\u001b[0;31mNameError\u001b[0m                                 Traceback (most recent call last)",
            "\u001b[0;32m<ipython-input-29-7f0405de655e>\u001b[0m in \u001b[0;36m<module>\u001b[0;34m()\u001b[0m\n\u001b[1;32m      3\u001b[0m \u001b[0mplt\u001b[0m\u001b[0;34m.\u001b[0m\u001b[0mtitle\u001b[0m\u001b[0;34m(\u001b[0m\u001b[0;34m' Area Under Curve Analysis\\n Without SFS Feature Selector'\u001b[0m\u001b[0;34m)\u001b[0m\u001b[0;34m\u001b[0m\u001b[0;34m\u001b[0m\u001b[0m\n\u001b[1;32m      4\u001b[0m \u001b[0mplot_roc_curve\u001b[0m\u001b[0;34m(\u001b[0m\u001b[0mabc\u001b[0m\u001b[0;34m,\u001b[0m\u001b[0mX_test\u001b[0m\u001b[0;34m,\u001b[0m\u001b[0my_test\u001b[0m\u001b[0;34m,\u001b[0m\u001b[0max\u001b[0m\u001b[0;34m=\u001b[0m\u001b[0mdisp\u001b[0m\u001b[0;34m.\u001b[0m\u001b[0max_\u001b[0m\u001b[0;34m)\u001b[0m\u001b[0;34m\u001b[0m\u001b[0;34m\u001b[0m\u001b[0m\n\u001b[0;32m----> 5\u001b[0;31m \u001b[0mplot_roc_curve\u001b[0m\u001b[0;34m(\u001b[0m\u001b[0mxgboost\u001b[0m\u001b[0;34m,\u001b[0m\u001b[0mX_test\u001b[0m\u001b[0;34m,\u001b[0m\u001b[0my_test\u001b[0m\u001b[0;34m,\u001b[0m\u001b[0max\u001b[0m\u001b[0;34m=\u001b[0m\u001b[0mdisp\u001b[0m\u001b[0;34m.\u001b[0m\u001b[0max_\u001b[0m\u001b[0;34m)\u001b[0m\u001b[0;34m\u001b[0m\u001b[0;34m\u001b[0m\u001b[0m\n\u001b[0m\u001b[1;32m      6\u001b[0m \u001b[0mplot_roc_curve\u001b[0m\u001b[0;34m(\u001b[0m\u001b[0mSVM\u001b[0m\u001b[0;34m,\u001b[0m\u001b[0mX_test\u001b[0m\u001b[0;34m,\u001b[0m\u001b[0my_test\u001b[0m\u001b[0;34m,\u001b[0m\u001b[0max\u001b[0m\u001b[0;34m=\u001b[0m\u001b[0mdisp\u001b[0m\u001b[0;34m.\u001b[0m\u001b[0max_\u001b[0m\u001b[0;34m)\u001b[0m\u001b[0;34m\u001b[0m\u001b[0;34m\u001b[0m\u001b[0m\n\u001b[1;32m      7\u001b[0m \u001b[0mplot_roc_curve\u001b[0m\u001b[0;34m(\u001b[0m\u001b[0mRFC\u001b[0m\u001b[0;34m,\u001b[0m\u001b[0mX_test\u001b[0m\u001b[0;34m,\u001b[0m\u001b[0my_test\u001b[0m\u001b[0;34m,\u001b[0m\u001b[0max\u001b[0m\u001b[0;34m=\u001b[0m\u001b[0mdisp\u001b[0m\u001b[0;34m.\u001b[0m\u001b[0max_\u001b[0m\u001b[0;34m)\u001b[0m\u001b[0;34m\u001b[0m\u001b[0;34m\u001b[0m\u001b[0m\n",
            "\u001b[0;31mNameError\u001b[0m: name 'xgboost' is not defined"
          ]
        },
        {
          "output_type": "display_data",
          "data": {
            "image/png": "[encoded data removed]",
            "text/plain": [
              "<Figure size 720x432 with 1 Axes>"
            ]
          },
          "metadata": {
            "tags": []
          }
        }
      ]
    },
    {
      "cell_type": "markdown",
      "metadata": {
        "id": "GEqY13Q1bysN"
      },
      "source": [
        "\n"
      ]
    },
    {
      "cell_type": "markdown",
      "metadata": {
        "id": "IdltkUspb2Fv"
      },
      "source": [
        "# Area Under Curve Analysis : With SFS"
      ]
    },
    {
      "cell_type": "code",
      "metadata": {
        "id": "_V8bI7jRPcJ2"
      },
      "source": [
        "plt.rcParams[\"figure.figsize\"] = [10,6]\n",
        "feat_cols = list(sfs0.k_feature_idx_)\n",
        "disp = plot_roc_curve(classifier1,X_test[:, feat_cols],y_test)\n",
        "feat_cols = list(sfs1.k_feature_idx_)\n",
        "plt.title(' Area Under Curve Analysis\\n With SFS Feature Selector')\n",
        "plot_roc_curve(abc1,X_test[:, feat_cols],y_test,ax=disp.ax_)\n",
        "feat_cols = list(sfs2.k_feature_idx_)\n",
        "plot_roc_curve(xgboost1,X_test[:, feat_cols],y_test,ax=disp.ax_)\n",
        "feat_cols = list(sfs3.k_feature_idx_)\n",
        "plot_roc_curve(SVM1,X_test[:, feat_cols],y_test,ax=disp.ax_)\n",
        "feat_cols = list(sfs4.k_feature_idx_)\n",
        "plot_roc_curve(RFC1,X_test[:, feat_cols],y_test,ax=disp.ax_)\n",
        "feat_cols = list(sfs5.k_feature_idx_)\n",
        "plot_roc_curve(lr1,X_test[:, feat_cols],y_test,ax=disp.ax_)\n",
        "feat_cols = list(sfs7.k_feature_idx_)\n",
        "plot_roc_curve(dtc1,X_test[:, feat_cols],y_test,ax=disp.ax_)\n",
        "feat_cols = list(sfs8.k_feature_idx_)\n",
        "plot_roc_curve(GBC1,X_test[:, feat_cols],y_test,ax=disp.ax_)"
      ],
      "execution_count": null,
      "outputs": []
    },
    {
      "cell_type": "code",
      "metadata": {
        "id": "5U0pQKB0pkq0"
      },
      "source": [
        ""
      ],
      "execution_count": null,
      "outputs": []
    }
  ]
}