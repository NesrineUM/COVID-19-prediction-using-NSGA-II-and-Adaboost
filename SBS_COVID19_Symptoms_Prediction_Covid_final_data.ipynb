{
  "nbformat": 4,
  "nbformat_minor": 0,
  "metadata": {
    "kernelspec": {
      "display_name": "Python 3",
      "language": "python",
      "name": "python3"
    },
    "language_info": {
      "codemirror_mode": {
        "name": "ipython",
        "version": 3
      },
      "file_extension": ".py",
      "mimetype": "text/x-python",
      "name": "python",
      "nbconvert_exporter": "python",
      "pygments_lexer": "ipython3",
      "version": "3.7.3"
    },
    "colab": {
      "name": "10FINALSBS_COVID19 Symptoms Prediction_Covid_final_data.ipynb",
      "provenance": [],
      "collapsed_sections": [],
      "toc_visible": true
    },
    "accelerator": "GPU"
  },
  "cells": [
    {
      "cell_type": "markdown",
      "metadata": {
        "id": "wsOs9j9gWuAV"
      },
      "source": [
        "#Mount Drive"
      ]
    },
    {
      "cell_type": "code",
      "metadata": {
        "id": "uCEHXrtpV3Oj",
        "colab": {
          "base_uri": "https://localhost:8080/",
          "height": 54
        },
        "outputId": "9ed78c98-b487-4a9d-8df2-3ff1ac447db3"
      },
      "source": [
        "from google.colab import drive\n",
        "drive.mount('/content/drive')"
      ],
      "execution_count": null,
      "outputs": [
        {
          "output_type": "stream",
          "text": [
            "Drive already mounted at /content/drive; to attempt to forcibly remount, call drive.mount(\"/content/drive\", force_remount=True).\n"
          ],
          "name": "stdout"
        }
      ]
    },
    {
      "cell_type": "markdown",
      "metadata": {
        "id": "vi1Mi5BuVu7I"
      },
      "source": [
        "### Importing the packages"
      ]
    },
    {
      "cell_type": "code",
      "metadata": {
        "id": "8Bo-iMO-Vu7L"
      },
      "source": [
        "import numpy as np\n",
        "import pandas as pd\n",
        "import seaborn as sns\n",
        "import keras\n",
        "import sklearn\n",
        "import warnings\n",
        "import matplotlib.pyplot as plt\n",
        "from sklearn.metrics import accuracy_score,plot_roc_curve,log_loss,f1_score,precision_score,recall_score\n",
        "from sklearn.linear_model import LogisticRegression\n",
        "from sklearn.ensemble import RandomForestClassifier\n",
        "from sklearn.tree import DecisionTreeClassifier\n",
        "from sklearn.naive_bayes import GaussianNB\n",
        "from sklearn.svm import LinearSVC\n",
        "from sklearn.neural_network import MLPClassifier\n",
        "import seaborn as sn\n",
        "from sklearn.naive_bayes import MultinomialNB\n",
        "from sklearn.svm import SVC\n",
        "from sklearn.ensemble import RandomForestClassifier, AdaBoostClassifier\n",
        "from sklearn.neighbors import KNeighborsClassifier\n",
        "from sklearn.pipeline import Pipeline\n",
        "from sklearn import model_selection\n",
        "from sklearn.metrics import confusion_matrix\n",
        "import numpy as np\n",
        "import pandas as pd\n",
        "import tensorflow as tf\n",
        "import matplotlib.pyplot as plt\n",
        "from sklearn.tree import DecisionTreeClassifier\n",
        "from sklearn.model_selection import train_test_split\n",
        "from keras.layers import Dense, Flatten, Dropout,LeakyReLU\n",
        "from keras.callbacks import ModelCheckpoint\n",
        "from sklearn.metrics import classification_report\n",
        "from sklearn.naive_bayes import MultinomialNB\n",
        "from sklearn.ensemble import GradientBoostingClassifier\n",
        "from keras.models import Sequential\n",
        "from mlxtend.feature_selection import SequentialFeatureSelector as SFS\n",
        "from sklearn.metrics import roc_auc_score\n",
        "warnings.simplefilter('ignore')\n",
        "\n",
        "%matplotlib inline\n"
      ],
      "execution_count": null,
      "outputs": []
    },
    {
      "cell_type": "markdown",
      "metadata": {
        "id": "prk5-3cjVu7T"
      },
      "source": [
        "### Importing the dataset"
      ]
    },
    {
      "cell_type": "code",
      "metadata": {
        "id": "AAD33L4TVu7U"
      },
      "source": [
        "#Reading the DataSet\n",
        "df = pd.read_csv('/content/drive/My Drive/COVID19/COVID-19/covid_final_data.csv')"
      ],
      "execution_count": null,
      "outputs": []
    },
    {
      "cell_type": "markdown",
      "metadata": {
        "id": "DM0-Ea4bVu7a"
      },
      "source": [
        "### Dataset Attributes\n"
      ]
    },
    {
      "cell_type": "code",
      "metadata": {
        "id": "8XXClcAmVu7a",
        "colab": {
          "base_uri": "https://localhost:8080/",
          "height": 102
        },
        "outputId": "e7cae42e-b3fc-4992-940e-5971657b4716"
      },
      "source": [
        "df.columns"
      ],
      "execution_count": null,
      "outputs": [
        {
          "output_type": "execute_result",
          "data": {
            "text/plain": [
              "Index(['AGE', 'GENDER', 'FEVER', 'COUGH', 'FATIGUE', 'PAINS',\n",
              "       'NASAL_CONGESTION', 'SHORTNESS_OF_BREATH', 'RUNNY_NOSE', 'SORE THROAT',\n",
              "       'DIARRHEA', 'CHILLS', 'HEADACHE', 'VOMITING', 'LIVES_IN_AFFECTED_AREA',\n",
              "       'COVID_OUTPUT'],\n",
              "      dtype='object')"
            ]
          },
          "metadata": {
            "tags": []
          },
          "execution_count": 676
        }
      ]
    },
    {
      "cell_type": "markdown",
      "metadata": {
        "id": "aCskJBsCVu7f"
      },
      "source": [
        "**Patient's Attribute**\n",
        "\n",
        "```\n",
        "1. Age: Patient's Age\n",
        "2. Gender: Male(1) or Female (0)\n",
        "3. Fever: Yes(1) or No(0)\n",
        "4. Cough: Yes(1) or No(0)\n",
        "5. Fatigue: Yes(1) or No(0)\n",
        "6. Pains: Yes(1) or No(0)\n",
        "7. Nasal Congestion: Yes(1) or No(0)\n",
        "8. Shortness of Breath: Yes(1) or No(0)\n",
        "9. Runny Nose: Yes(1) or No(0)\n",
        "10. Sore Throat: Yes(1) or No(0)\n",
        "11. Diarrhea: Yes(1) or No(0)\n",
        "12. Chills: Yes(1) or No(0)\n",
        "13. Headache: Yes(1) or No(0)\n",
        "14. Vomiting: Yes(1) or No(0)\n",
        "15. Lives in affected area: Yes(1) or No(0)\n",
        "---------------------------------------------\n",
        "16. Covid Output: Yes(1) or No(0)\n",
        "```"
      ]
    },
    {
      "cell_type": "code",
      "metadata": {
        "id": "vV4WSe_hVu7g",
        "colab": {
          "base_uri": "https://localhost:8080/",
          "height": 241
        },
        "outputId": "210a8936-b5df-4015-ba7c-7854a3d3c5cb"
      },
      "source": [
        "df.head()"
      ],
      "execution_count": null,
      "outputs": [
        {
          "output_type": "execute_result",
          "data": {
            "text/html": [
              "<div>\n",
              "<style scoped>\n",
              "    .dataframe tbody tr th:only-of-type {\n",
              "        vertical-align: middle;\n",
              "    }\n",
              "\n",
              "    .dataframe tbody tr th {\n",
              "        vertical-align: top;\n",
              "    }\n",
              "\n",
              "    .dataframe thead th {\n",
              "        text-align: right;\n",
              "    }\n",
              "</style>\n",
              "<table border=\"1\" class=\"dataframe\">\n",
              "  <thead>\n",
              "    <tr style=\"text-align: right;\">\n",
              "      <th></th>\n",
              "      <th>AGE</th>\n",
              "      <th>GENDER</th>\n",
              "      <th>FEVER</th>\n",
              "      <th>COUGH</th>\n",
              "      <th>FATIGUE</th>\n",
              "      <th>PAINS</th>\n",
              "      <th>NASAL_CONGESTION</th>\n",
              "      <th>SHORTNESS_OF_BREATH</th>\n",
              "      <th>RUNNY_NOSE</th>\n",
              "      <th>SORE THROAT</th>\n",
              "      <th>DIARRHEA</th>\n",
              "      <th>CHILLS</th>\n",
              "      <th>HEADACHE</th>\n",
              "      <th>VOMITING</th>\n",
              "      <th>LIVES_IN_AFFECTED_AREA</th>\n",
              "      <th>COVID_OUTPUT</th>\n",
              "    </tr>\n",
              "  </thead>\n",
              "  <tbody>\n",
              "    <tr>\n",
              "      <th>0</th>\n",
              "      <td>19</td>\n",
              "      <td>0</td>\n",
              "      <td>1</td>\n",
              "      <td>1</td>\n",
              "      <td>0</td>\n",
              "      <td>0</td>\n",
              "      <td>0</td>\n",
              "      <td>0</td>\n",
              "      <td>0</td>\n",
              "      <td>1</td>\n",
              "      <td>0</td>\n",
              "      <td>0</td>\n",
              "      <td>1</td>\n",
              "      <td>0</td>\n",
              "      <td>0</td>\n",
              "      <td>1</td>\n",
              "    </tr>\n",
              "    <tr>\n",
              "      <th>1</th>\n",
              "      <td>28</td>\n",
              "      <td>1</td>\n",
              "      <td>1</td>\n",
              "      <td>0</td>\n",
              "      <td>0</td>\n",
              "      <td>0</td>\n",
              "      <td>0</td>\n",
              "      <td>0</td>\n",
              "      <td>0</td>\n",
              "      <td>0</td>\n",
              "      <td>0</td>\n",
              "      <td>0</td>\n",
              "      <td>1</td>\n",
              "      <td>0</td>\n",
              "      <td>1</td>\n",
              "      <td>1</td>\n",
              "    </tr>\n",
              "    <tr>\n",
              "      <th>2</th>\n",
              "      <td>35</td>\n",
              "      <td>0</td>\n",
              "      <td>1</td>\n",
              "      <td>1</td>\n",
              "      <td>0</td>\n",
              "      <td>0</td>\n",
              "      <td>0</td>\n",
              "      <td>0</td>\n",
              "      <td>0</td>\n",
              "      <td>0</td>\n",
              "      <td>0</td>\n",
              "      <td>0</td>\n",
              "      <td>1</td>\n",
              "      <td>0</td>\n",
              "      <td>0</td>\n",
              "      <td>1</td>\n",
              "    </tr>\n",
              "    <tr>\n",
              "      <th>3</th>\n",
              "      <td>33</td>\n",
              "      <td>0</td>\n",
              "      <td>1</td>\n",
              "      <td>0</td>\n",
              "      <td>0</td>\n",
              "      <td>0</td>\n",
              "      <td>0</td>\n",
              "      <td>0</td>\n",
              "      <td>0</td>\n",
              "      <td>0</td>\n",
              "      <td>0</td>\n",
              "      <td>0</td>\n",
              "      <td>1</td>\n",
              "      <td>0</td>\n",
              "      <td>0</td>\n",
              "      <td>1</td>\n",
              "    </tr>\n",
              "    <tr>\n",
              "      <th>4</th>\n",
              "      <td>33</td>\n",
              "      <td>0</td>\n",
              "      <td>1</td>\n",
              "      <td>0</td>\n",
              "      <td>0</td>\n",
              "      <td>0</td>\n",
              "      <td>0</td>\n",
              "      <td>0</td>\n",
              "      <td>0</td>\n",
              "      <td>0</td>\n",
              "      <td>0</td>\n",
              "      <td>0</td>\n",
              "      <td>1</td>\n",
              "      <td>0</td>\n",
              "      <td>0</td>\n",
              "      <td>1</td>\n",
              "    </tr>\n",
              "  </tbody>\n",
              "</table>\n",
              "</div>"
            ],
            "text/plain": [
              "   AGE  GENDER  FEVER  ...  VOMITING  LIVES_IN_AFFECTED_AREA  COVID_OUTPUT\n",
              "0   19       0      1  ...         0                       0             1\n",
              "1   28       1      1  ...         0                       1             1\n",
              "2   35       0      1  ...         0                       0             1\n",
              "3   33       0      1  ...         0                       0             1\n",
              "4   33       0      1  ...         0                       0             1\n",
              "\n",
              "[5 rows x 16 columns]"
            ]
          },
          "metadata": {
            "tags": []
          },
          "execution_count": 677
        }
      ]
    },
    {
      "cell_type": "code",
      "metadata": {
        "id": "LKavALzT9rLE",
        "colab": {
          "base_uri": "https://localhost:8080/",
          "height": 306
        },
        "outputId": "3b92f2ba-ec5f-4c2d-fab5-85d67cca4d86"
      },
      "source": [
        "df.isnull().sum()"
      ],
      "execution_count": null,
      "outputs": [
        {
          "output_type": "execute_result",
          "data": {
            "text/plain": [
              "AGE                       0\n",
              "GENDER                    0\n",
              "FEVER                     0\n",
              "COUGH                     0\n",
              "FATIGUE                   0\n",
              "PAINS                     0\n",
              "NASAL_CONGESTION          0\n",
              "SHORTNESS_OF_BREATH       0\n",
              "RUNNY_NOSE                0\n",
              "SORE THROAT               0\n",
              "DIARRHEA                  0\n",
              "CHILLS                    0\n",
              "HEADACHE                  0\n",
              "VOMITING                  0\n",
              "LIVES_IN_AFFECTED_AREA    0\n",
              "COVID_OUTPUT              0\n",
              "dtype: int64"
            ]
          },
          "metadata": {
            "tags": []
          },
          "execution_count": 678
        }
      ]
    },
    {
      "cell_type": "code",
      "metadata": {
        "id": "4UGCNe-6S-do",
        "colab": {
          "base_uri": "https://localhost:8080/",
          "height": 34
        },
        "outputId": "a5cdf6d6-3322-4c9d-aa41-02825ec95818"
      },
      "source": [
        "np.shape(df)"
      ],
      "execution_count": null,
      "outputs": [
        {
          "output_type": "execute_result",
          "data": {
            "text/plain": [
              "(1495, 16)"
            ]
          },
          "metadata": {
            "tags": []
          },
          "execution_count": 679
        }
      ]
    },
    {
      "cell_type": "markdown",
      "metadata": {
        "id": "d9SkMF8ZF65v"
      },
      "source": [
        "#Number of samples ( Covid(1) and Non covid(0))"
      ]
    },
    {
      "cell_type": "code",
      "metadata": {
        "id": "yGCOJbpWFtZL",
        "colab": {
          "base_uri": "https://localhost:8080/",
          "height": 68
        },
        "outputId": "f83b041d-263b-4180-cc06-d07e9274ddb9"
      },
      "source": [
        "df['COVID_OUTPUT'].value_counts().head()"
      ],
      "execution_count": null,
      "outputs": [
        {
          "output_type": "execute_result",
          "data": {
            "text/plain": [
              "1    757\n",
              "0    738\n",
              "Name: COVID_OUTPUT, dtype: int64"
            ]
          },
          "metadata": {
            "tags": []
          },
          "execution_count": 680
        }
      ]
    },
    {
      "cell_type": "code",
      "metadata": {
        "id": "j3gcXIaiTDvG",
        "colab": {
          "base_uri": "https://localhost:8080/",
          "height": 285
        },
        "outputId": "7fe34a5d-40f5-4bdf-b109-4b6c42eba043"
      },
      "source": [
        "sns.set(style=\"darkgrid\")\n",
        "sn.countplot(df[\"COVID_OUTPUT\"])\n",
        "plt.show()"
      ],
      "execution_count": null,
      "outputs": [
        {
          "output_type": "display_data",
          "data": {
            "image/png": "[encoded data removed]",
            "text/plain": [
              "<Figure size 432x288 with 1 Axes>"
            ]
          },
          "metadata": {
            "tags": []
          }
        }
      ]
    },
    {
      "cell_type": "code",
      "metadata": {
        "id": "tK7DW8ylTiDL",
        "colab": {
          "base_uri": "https://localhost:8080/",
          "height": 1000
        },
        "outputId": "80db1b9b-fbbd-491a-fbb5-65b44e2535e8"
      },
      "source": [
        "plt.figure(figsize=(9,6))\n",
        "c=df.corr()\n",
        "sn.heatmap(c,xticklabels=c.columns,yticklabels=c.columns,annot=True)\n",
        "c"
      ],
      "execution_count": null,
      "outputs": [
        {
          "output_type": "execute_result",
          "data": {
            "text/html": [
              "<div>\n",
              "<style scoped>\n",
              "    .dataframe tbody tr th:only-of-type {\n",
              "        vertical-align: middle;\n",
              "    }\n",
              "\n",
              "    .dataframe tbody tr th {\n",
              "        vertical-align: top;\n",
              "    }\n",
              "\n",
              "    .dataframe thead th {\n",
              "        text-align: right;\n",
              "    }\n",
              "</style>\n",
              "<table border=\"1\" class=\"dataframe\">\n",
              "  <thead>\n",
              "    <tr style=\"text-align: right;\">\n",
              "      <th></th>\n",
              "      <th>AGE</th>\n",
              "      <th>GENDER</th>\n",
              "      <th>FEVER</th>\n",
              "      <th>COUGH</th>\n",
              "      <th>FATIGUE</th>\n",
              "      <th>PAINS</th>\n",
              "      <th>NASAL_CONGESTION</th>\n",
              "      <th>SHORTNESS_OF_BREATH</th>\n",
              "      <th>RUNNY_NOSE</th>\n",
              "      <th>SORE THROAT</th>\n",
              "      <th>DIARRHEA</th>\n",
              "      <th>CHILLS</th>\n",
              "      <th>HEADACHE</th>\n",
              "      <th>VOMITING</th>\n",
              "      <th>LIVES_IN_AFFECTED_AREA</th>\n",
              "      <th>COVID_OUTPUT</th>\n",
              "    </tr>\n",
              "  </thead>\n",
              "  <tbody>\n",
              "    <tr>\n",
              "      <th>AGE</th>\n",
              "      <td>1.000000</td>\n",
              "      <td>0.074382</td>\n",
              "      <td>0.022943</td>\n",
              "      <td>0.047645</td>\n",
              "      <td>0.097993</td>\n",
              "      <td>0.081185</td>\n",
              "      <td>0.130204</td>\n",
              "      <td>-0.031658</td>\n",
              "      <td>-0.021785</td>\n",
              "      <td>-0.105755</td>\n",
              "      <td>-0.048191</td>\n",
              "      <td>0.023023</td>\n",
              "      <td>0.016395</td>\n",
              "      <td>0.022586</td>\n",
              "      <td>-0.000310</td>\n",
              "      <td>0.006081</td>\n",
              "    </tr>\n",
              "    <tr>\n",
              "      <th>GENDER</th>\n",
              "      <td>0.074382</td>\n",
              "      <td>1.000000</td>\n",
              "      <td>0.053795</td>\n",
              "      <td>0.003112</td>\n",
              "      <td>-0.048996</td>\n",
              "      <td>-0.010474</td>\n",
              "      <td>0.011494</td>\n",
              "      <td>-0.016308</td>\n",
              "      <td>-0.052529</td>\n",
              "      <td>-0.062823</td>\n",
              "      <td>0.017050</td>\n",
              "      <td>-0.014599</td>\n",
              "      <td>-0.022730</td>\n",
              "      <td>0.025970</td>\n",
              "      <td>0.212699</td>\n",
              "      <td>0.013788</td>\n",
              "    </tr>\n",
              "    <tr>\n",
              "      <th>FEVER</th>\n",
              "      <td>0.022943</td>\n",
              "      <td>0.053795</td>\n",
              "      <td>1.000000</td>\n",
              "      <td>0.191755</td>\n",
              "      <td>-0.005902</td>\n",
              "      <td>0.060148</td>\n",
              "      <td>0.004159</td>\n",
              "      <td>-0.123018</td>\n",
              "      <td>0.010423</td>\n",
              "      <td>0.001083</td>\n",
              "      <td>0.009738</td>\n",
              "      <td>-0.017796</td>\n",
              "      <td>-0.068020</td>\n",
              "      <td>-0.020995</td>\n",
              "      <td>0.187202</td>\n",
              "      <td>0.529185</td>\n",
              "    </tr>\n",
              "    <tr>\n",
              "      <th>COUGH</th>\n",
              "      <td>0.047645</td>\n",
              "      <td>0.003112</td>\n",
              "      <td>0.191755</td>\n",
              "      <td>1.000000</td>\n",
              "      <td>-0.027305</td>\n",
              "      <td>0.052422</td>\n",
              "      <td>0.070611</td>\n",
              "      <td>-0.080566</td>\n",
              "      <td>0.029718</td>\n",
              "      <td>0.019849</td>\n",
              "      <td>0.020887</td>\n",
              "      <td>-0.030242</td>\n",
              "      <td>0.056511</td>\n",
              "      <td>0.014351</td>\n",
              "      <td>-0.030356</td>\n",
              "      <td>0.218632</td>\n",
              "    </tr>\n",
              "    <tr>\n",
              "      <th>FATIGUE</th>\n",
              "      <td>0.097993</td>\n",
              "      <td>-0.048996</td>\n",
              "      <td>-0.005902</td>\n",
              "      <td>-0.027305</td>\n",
              "      <td>1.000000</td>\n",
              "      <td>0.015797</td>\n",
              "      <td>-0.007595</td>\n",
              "      <td>-0.045449</td>\n",
              "      <td>-0.029837</td>\n",
              "      <td>0.010381</td>\n",
              "      <td>0.037218</td>\n",
              "      <td>0.033071</td>\n",
              "      <td>0.007328</td>\n",
              "      <td>0.008849</td>\n",
              "      <td>-0.016685</td>\n",
              "      <td>0.070014</td>\n",
              "    </tr>\n",
              "    <tr>\n",
              "      <th>PAINS</th>\n",
              "      <td>0.081185</td>\n",
              "      <td>-0.010474</td>\n",
              "      <td>0.060148</td>\n",
              "      <td>0.052422</td>\n",
              "      <td>0.015797</td>\n",
              "      <td>1.000000</td>\n",
              "      <td>0.040673</td>\n",
              "      <td>0.014355</td>\n",
              "      <td>0.031633</td>\n",
              "      <td>-0.009506</td>\n",
              "      <td>0.023900</td>\n",
              "      <td>-0.034958</td>\n",
              "      <td>-0.030098</td>\n",
              "      <td>-0.005686</td>\n",
              "      <td>-0.037240</td>\n",
              "      <td>0.057166</td>\n",
              "    </tr>\n",
              "    <tr>\n",
              "      <th>NASAL_CONGESTION</th>\n",
              "      <td>0.130204</td>\n",
              "      <td>0.011494</td>\n",
              "      <td>0.004159</td>\n",
              "      <td>0.070611</td>\n",
              "      <td>-0.007595</td>\n",
              "      <td>0.040673</td>\n",
              "      <td>1.000000</td>\n",
              "      <td>-0.042787</td>\n",
              "      <td>-0.043125</td>\n",
              "      <td>-0.040672</td>\n",
              "      <td>0.042957</td>\n",
              "      <td>0.020311</td>\n",
              "      <td>-0.048444</td>\n",
              "      <td>-0.009234</td>\n",
              "      <td>0.066466</td>\n",
              "      <td>0.077812</td>\n",
              "    </tr>\n",
              "    <tr>\n",
              "      <th>SHORTNESS_OF_BREATH</th>\n",
              "      <td>-0.031658</td>\n",
              "      <td>-0.016308</td>\n",
              "      <td>-0.123018</td>\n",
              "      <td>-0.080566</td>\n",
              "      <td>-0.045449</td>\n",
              "      <td>0.014355</td>\n",
              "      <td>-0.042787</td>\n",
              "      <td>1.000000</td>\n",
              "      <td>-0.046551</td>\n",
              "      <td>-0.047411</td>\n",
              "      <td>-0.009285</td>\n",
              "      <td>-0.022450</td>\n",
              "      <td>-0.093514</td>\n",
              "      <td>-0.034236</td>\n",
              "      <td>0.024829</td>\n",
              "      <td>0.016807</td>\n",
              "    </tr>\n",
              "    <tr>\n",
              "      <th>RUNNY_NOSE</th>\n",
              "      <td>-0.021785</td>\n",
              "      <td>-0.052529</td>\n",
              "      <td>0.010423</td>\n",
              "      <td>0.029718</td>\n",
              "      <td>-0.029837</td>\n",
              "      <td>0.031633</td>\n",
              "      <td>-0.043125</td>\n",
              "      <td>-0.046551</td>\n",
              "      <td>1.000000</td>\n",
              "      <td>0.062148</td>\n",
              "      <td>0.146668</td>\n",
              "      <td>-0.040708</td>\n",
              "      <td>-0.005887</td>\n",
              "      <td>0.007113</td>\n",
              "      <td>-0.017605</td>\n",
              "      <td>0.013413</td>\n",
              "    </tr>\n",
              "    <tr>\n",
              "      <th>SORE THROAT</th>\n",
              "      <td>-0.105755</td>\n",
              "      <td>-0.062823</td>\n",
              "      <td>0.001083</td>\n",
              "      <td>0.019849</td>\n",
              "      <td>0.010381</td>\n",
              "      <td>-0.009506</td>\n",
              "      <td>-0.040672</td>\n",
              "      <td>-0.047411</td>\n",
              "      <td>0.062148</td>\n",
              "      <td>1.000000</td>\n",
              "      <td>0.015141</td>\n",
              "      <td>0.064801</td>\n",
              "      <td>0.052343</td>\n",
              "      <td>0.065870</td>\n",
              "      <td>-0.030366</td>\n",
              "      <td>-0.008681</td>\n",
              "    </tr>\n",
              "    <tr>\n",
              "      <th>DIARRHEA</th>\n",
              "      <td>-0.048191</td>\n",
              "      <td>0.017050</td>\n",
              "      <td>0.009738</td>\n",
              "      <td>0.020887</td>\n",
              "      <td>0.037218</td>\n",
              "      <td>0.023900</td>\n",
              "      <td>0.042957</td>\n",
              "      <td>-0.009285</td>\n",
              "      <td>0.146668</td>\n",
              "      <td>0.015141</td>\n",
              "      <td>1.000000</td>\n",
              "      <td>0.048589</td>\n",
              "      <td>-0.026456</td>\n",
              "      <td>0.125182</td>\n",
              "      <td>0.021379</td>\n",
              "      <td>0.044341</td>\n",
              "    </tr>\n",
              "    <tr>\n",
              "      <th>CHILLS</th>\n",
              "      <td>0.023023</td>\n",
              "      <td>-0.014599</td>\n",
              "      <td>-0.017796</td>\n",
              "      <td>-0.030242</td>\n",
              "      <td>0.033071</td>\n",
              "      <td>-0.034958</td>\n",
              "      <td>0.020311</td>\n",
              "      <td>-0.022450</td>\n",
              "      <td>-0.040708</td>\n",
              "      <td>0.064801</td>\n",
              "      <td>0.048589</td>\n",
              "      <td>1.000000</td>\n",
              "      <td>0.049161</td>\n",
              "      <td>0.017500</td>\n",
              "      <td>-0.009769</td>\n",
              "      <td>0.016038</td>\n",
              "    </tr>\n",
              "    <tr>\n",
              "      <th>HEADACHE</th>\n",
              "      <td>0.016395</td>\n",
              "      <td>-0.022730</td>\n",
              "      <td>-0.068020</td>\n",
              "      <td>0.056511</td>\n",
              "      <td>0.007328</td>\n",
              "      <td>-0.030098</td>\n",
              "      <td>-0.048444</td>\n",
              "      <td>-0.093514</td>\n",
              "      <td>-0.005887</td>\n",
              "      <td>0.052343</td>\n",
              "      <td>-0.026456</td>\n",
              "      <td>0.049161</td>\n",
              "      <td>1.000000</td>\n",
              "      <td>0.083667</td>\n",
              "      <td>-0.282833</td>\n",
              "      <td>-0.272482</td>\n",
              "    </tr>\n",
              "    <tr>\n",
              "      <th>VOMITING</th>\n",
              "      <td>0.022586</td>\n",
              "      <td>0.025970</td>\n",
              "      <td>-0.020995</td>\n",
              "      <td>0.014351</td>\n",
              "      <td>0.008849</td>\n",
              "      <td>-0.005686</td>\n",
              "      <td>-0.009234</td>\n",
              "      <td>-0.034236</td>\n",
              "      <td>0.007113</td>\n",
              "      <td>0.065870</td>\n",
              "      <td>0.125182</td>\n",
              "      <td>0.017500</td>\n",
              "      <td>0.083667</td>\n",
              "      <td>1.000000</td>\n",
              "      <td>-0.006384</td>\n",
              "      <td>-0.066612</td>\n",
              "    </tr>\n",
              "    <tr>\n",
              "      <th>LIVES_IN_AFFECTED_AREA</th>\n",
              "      <td>-0.000310</td>\n",
              "      <td>0.212699</td>\n",
              "      <td>0.187202</td>\n",
              "      <td>-0.030356</td>\n",
              "      <td>-0.016685</td>\n",
              "      <td>-0.037240</td>\n",
              "      <td>0.066466</td>\n",
              "      <td>0.024829</td>\n",
              "      <td>-0.017605</td>\n",
              "      <td>-0.030366</td>\n",
              "      <td>0.021379</td>\n",
              "      <td>-0.009769</td>\n",
              "      <td>-0.282833</td>\n",
              "      <td>-0.006384</td>\n",
              "      <td>1.000000</td>\n",
              "      <td>0.302627</td>\n",
              "    </tr>\n",
              "    <tr>\n",
              "      <th>COVID_OUTPUT</th>\n",
              "      <td>0.006081</td>\n",
              "      <td>0.013788</td>\n",
              "      <td>0.529185</td>\n",
              "      <td>0.218632</td>\n",
              "      <td>0.070014</td>\n",
              "      <td>0.057166</td>\n",
              "      <td>0.077812</td>\n",
              "      <td>0.016807</td>\n",
              "      <td>0.013413</td>\n",
              "      <td>-0.008681</td>\n",
              "      <td>0.044341</td>\n",
              "      <td>0.016038</td>\n",
              "      <td>-0.272482</td>\n",
              "      <td>-0.066612</td>\n",
              "      <td>0.302627</td>\n",
              "      <td>1.000000</td>\n",
              "    </tr>\n",
              "  </tbody>\n",
              "</table>\n",
              "</div>"
            ],
            "text/plain": [
              "                             AGE  ...  COVID_OUTPUT\n",
              "AGE                     1.000000  ...      0.006081\n",
              "GENDER                  0.074382  ...      0.013788\n",
              "FEVER                   0.022943  ...      0.529185\n",
              "COUGH                   0.047645  ...      0.218632\n",
              "FATIGUE                 0.097993  ...      0.070014\n",
              "PAINS                   0.081185  ...      0.057166\n",
              "NASAL_CONGESTION        0.130204  ...      0.077812\n",
              "SHORTNESS_OF_BREATH    -0.031658  ...      0.016807\n",
              "RUNNY_NOSE             -0.021785  ...      0.013413\n",
              "SORE THROAT            -0.105755  ...     -0.008681\n",
              "DIARRHEA               -0.048191  ...      0.044341\n",
              "CHILLS                  0.023023  ...      0.016038\n",
              "HEADACHE                0.016395  ...     -0.272482\n",
              "VOMITING                0.022586  ...     -0.066612\n",
              "LIVES_IN_AFFECTED_AREA -0.000310  ...      0.302627\n",
              "COVID_OUTPUT            0.006081  ...      1.000000\n",
              "\n",
              "[16 rows x 16 columns]"
            ]
          },
          "metadata": {
            "tags": []
          },
          "execution_count": 682
        },
        {
          "output_type": "display_data",
          "data": {
            "image/png": "[encoded data removed]",
            "text/plain": [
              "<Figure size 648x432 with 2 Axes>"
            ]
          },
          "metadata": {
            "tags": []
          }
        }
      ]
    },
    {
      "cell_type": "markdown",
      "metadata": {
        "id": "OnG_sBAVVu7k"
      },
      "source": [
        "### Correlation Matrix"
      ]
    },
    {
      "cell_type": "code",
      "metadata": {
        "id": "pUuMcUQCVu7k"
      },
      "source": [
        "# corrMatrix = df.corr(method='spearman')  \n",
        "# cor=df.corr()\n",
        "# # spearman"
      ],
      "execution_count": null,
      "outputs": []
    },
    {
      "cell_type": "markdown",
      "metadata": {
        "id": "A5co_G_9Vu7o"
      },
      "source": [
        "### Visual Representation of Correlation Matrix"
      ]
    },
    {
      "cell_type": "code",
      "metadata": {
        "id": "HfVb1S5TVu7p"
      },
      "source": [
        "# sns.heatmap(corrMatrix)\n",
        "# plt.rcParams[\"figure.figsize\"] = [16,10]\n",
        "# sns.heatmap(cor, annot=True, cmap=plt.cm.Reds)\n",
        "# plt.show()"
      ],
      "execution_count": null,
      "outputs": []
    },
    {
      "cell_type": "markdown",
      "metadata": {
        "id": "WbMtHrirVu7t"
      },
      "source": [
        "### Visual Analysis of Common Symptoms"
      ]
    },
    {
      "cell_type": "code",
      "metadata": {
        "id": "WThA_cdDVu7t",
        "colab": {
          "base_uri": "https://localhost:8080/",
          "height": 348
        },
        "outputId": "73654813-58eb-4c0c-f96a-3aae16624c1a"
      },
      "source": [
        "plt.clf()\n",
        "plt.rcParams[\"figure.figsize\"] = [15,5]\n",
        "df.groupby(['COUGH','FEVER','SHORTNESS_OF_BREATH','SORE THROAT']).size().plot(kind='bar')\n",
        "plt.xlabel(\"\\n Possible Combinations of Fever, Cough, Sore Throat and Shortness of Breath\")\n",
        "plt.ylabel(\" Number of patients \\n\")\n",
        "plt.show()"
      ],
      "execution_count": null,
      "outputs": [
        {
          "output_type": "display_data",
          "data": {
            "image/png": "[encoded data removed]",
            "text/plain": [
              "<Figure size 432x288 with 1 Axes>"
            ]
          },
          "metadata": {
            "tags": []
          }
        }
      ]
    },
    {
      "cell_type": "markdown",
      "metadata": {
        "id": "PqbvLdoCcDrz"
      },
      "source": [
        "#Split dataset "
      ]
    },
    {
      "cell_type": "code",
      "metadata": {
        "id": "ZHOummL-wOEu"
      },
      "source": [
        "X=df.values[:,0:15]\n",
        "y=df.values[:,15]"
      ],
      "execution_count": null,
      "outputs": []
    },
    {
      "cell_type": "markdown",
      "metadata": {
        "id": "XdQp97acVu71"
      },
      "source": [
        "#### Spliting the dataset into test and train"
      ]
    },
    {
      "cell_type": "code",
      "metadata": {
        "id": "onTFyyuoVu72"
      },
      "source": [
        "from sklearn.model_selection import train_test_split\n",
        "X_train, X_test, y_train, y_test = train_test_split(X,y,test_size=0.30)"
      ],
      "execution_count": null,
      "outputs": []
    },
    {
      "cell_type": "code",
      "metadata": {
        "id": "xM3d8IeMmK87"
      },
      "source": [
        "feat_labels=['AGE', 'GENDER', 'FEVER', 'COUGH', 'FATIGUE', 'PAINS',\n",
        "       'NASAL_CONGESTION', 'SHORTNESS_OF_BREATH', 'RUNNY_NOSE', 'SORE THROAT',\n",
        "       'DIARRHEA', 'CHILLS', 'HEADACHE', 'VOMITING', 'LIVES_IN_AFFECTED_AREA']"
      ],
      "execution_count": null,
      "outputs": []
    },
    {
      "cell_type": "markdown",
      "metadata": {
        "id": "SA1nGH79cP0j"
      },
      "source": [
        "#Metrics"
      ]
    },
    {
      "cell_type": "code",
      "metadata": {
        "id": "v0imP0hJUDxm"
      },
      "source": [
        "def calculate_sensitivity_specificity(y_test, y_pred_test):\n",
        "    # Note: More parameters are defined than necessary. \n",
        "    # This would allow return of other measures other than sensitivity and specificity\n",
        "    \n",
        "    # Get true/false for whether a breach actually occurred\n",
        "    actual_pos = y_test == 1\n",
        "    actual_neg = y_test == 0\n",
        "    \n",
        "    # Get true and false test (true test match actual, false tests differ from actual)\n",
        "    true_pos = (y_pred_test == 1) & (actual_pos)\n",
        "    false_pos = (y_pred_test == 1) & (actual_neg)\n",
        "    true_neg = (y_pred_test == 0) & (actual_neg)\n",
        "    false_neg = (y_pred_test == 0) & (actual_pos)\n",
        "    \n",
        "    # Calculate accuracy\n",
        "    accuracy = np.mean(y_pred_test == y_test)\n",
        "    \n",
        "    # Calculate sensitivity and specificity\n",
        "    sensitivity = np.sum(true_pos) / np.sum(actual_pos)\n",
        "    specificity = np.sum(true_neg) / np.sum(actual_neg)\n",
        "    \n",
        "    return sensitivity, specificity, accuracy"
      ],
      "execution_count": null,
      "outputs": []
    },
    {
      "cell_type": "markdown",
      "metadata": {
        "id": "ZKQe7KwPk_Hd"
      },
      "source": [
        "#AdaBoost classifier"
      ]
    },
    {
      "cell_type": "code",
      "metadata": {
        "id": "wNzvpV40iAgz"
      },
      "source": [
        "# for sfs\n",
        "from sklearn.neighbors import KNeighborsClassifier\n",
        "from sklearn.linear_model import LinearRegression\n",
        "from mlxtend.feature_selection import SequentialFeatureSelector as SFS\n",
        "#knn = KNeighborsClassifier(n_neighbors=3) # ml_algo used = knn\n",
        "#clf = RandomForestClassifier(n_estimators=1000, n_jobs=-1)\n",
        "clf = AdaBoostClassifier(n_estimators=100,learning_rate=0.1)\n",
        "sfs1 = SFS(clf,  \n",
        "           k_features=7, \n",
        "           forward=False, # if forward = True then SFS otherwise SBS\n",
        "           floating=False, \n",
        "           verbose=2,\n",
        "           scoring='accuracy', cv=4)\n",
        "#after applying sfs fit the data:\n",
        "sfs1.fit(X_train, y_train)\n",
        "sfs1.k_feature_names_  \n"
      ],
      "execution_count": null,
      "outputs": []
    },
    {
      "cell_type": "code",
      "metadata": {
        "id": "gemOi-ebhzx_",
        "colab": {
          "base_uri": "https://localhost:8080/",
          "height": 306
        },
        "outputId": "669b27be-1d3a-4464-dedd-efc9b4673c63"
      },
      "source": [
        "feat_cols = list(sfs1.k_feature_idx_)\n",
        "print(feat_cols)\n",
        "\n",
        "#abc = AdaBoostClassifier(n_estimators=1000,learning_rate=0.1,random_state=176)\n",
        "\n",
        "abc= AdaBoostClassifier(\n",
        "    DecisionTreeClassifier(max_depth=2,min_samples_leaf=1, min_samples_split=2 ), learning_rate=0.01,\n",
        "    random_state = 208, n_estimators=1000)\n",
        "abc.fit(X_train, y_train)\n",
        "#Predict the response for test dataset\n",
        "y_predadb = abc.predict(X_test)\n",
        "accuracy_score(y_test,y_predadb)\n",
        "p=precision_score(y_test, y_predadb)\n",
        "r=recall_score(y_test, y_predadb)\n",
        "f=f1_score(y_test, y_predadb)\n",
        "auc=roc_auc_score(y_test, y_predadb)\n",
        "sensitivity, specificity, accuracy = calculate_sensitivity_specificity(y_test, y_predadb)\n",
        "print(\"---------------------- ADABoost Classifier without SFS Feature Selection------------------\")\n",
        "print (\"Accuracy:    %.2f%%\"  %  (accuracy*100))\n",
        "print (\"Sensitivity:   %.2f%%\"  %  (sensitivity*100))\n",
        "print (\"Specificity:  %.2f%%\"  %  (specificity*100))\n",
        "print (\"Precision:  %.2f%%\"  %  (p*100))\n",
        "print (\"Recall:  %.2f%%\"  %  (r*100))\n",
        "print (\"F1_score: %.2f%%\"  %  (f*100))\n",
        "print (\"AUC: %.2f%%\"  %  (auc*100))\n",
        "\n",
        "\n",
        "print(\"---------------------- ADABoost Classifier with SFS Feature Selection------------------\")\n",
        "\n",
        "#abc1 = AdaBoostClassifier(n_estimators=3000,\n",
        "                         #learning_rate=0.01,random_state=201)\n",
        "#abc1 = AdaBoostClassifier(learning_rate=0.1,n_estimators=1000,random_state=178, max_depth=\n",
        "# svc=SVC(probability=True, kernel='linear')\n",
        "# abc1=AdaBoostClassifier(n_estimators=1000, base_estimator=svc,learning_rate=0.01,random_state=63)\n",
        "\n",
        "abc1= AdaBoostClassifier(\n",
        "    DecisionTreeClassifier(max_depth=3,min_samples_leaf=1, min_samples_split=2 ), learning_rate=0.1,\n",
        "    random_state = 208, n_estimators=50)\n",
        "\n",
        "\n",
        "\n",
        "# abc1= AdaBoostClassifier(\n",
        "#     DecisionTreeClassifier(random_state=20, max_depth=8,min_samples_leaf=1, min_samples_split=2 ), learning_rate=0.6,\n",
        "#     random_state = 208, n_estimators=50)\n",
        "\n",
        "\n",
        "\n",
        "# Train Adaboost Classifer\n",
        "abc1.fit(X_train[:,feat_cols], y_train)\n",
        "y_predadb = abc1.predict(X_test[:,feat_cols])\n",
        "accuracy_score(y_test,y_predadb)\n",
        "p=precision_score(y_test, y_predadb)\n",
        "r=recall_score(y_test, y_predadb)\n",
        "f=f1_score(y_test, y_predadb)\n",
        "auc=roc_auc_score(y_test, y_predadb)\n",
        "sensitivity, specificity, accuracy = calculate_sensitivity_specificity(y_test, y_predadb)\n",
        "print (\"Accuracy:    %.2f%%\"  %  (accuracy*100))\n",
        "print (\"Sensitivity:   %.2f%%\"  %  (sensitivity*100))\n",
        "print (\"Specificity:  %.2f%%\"  %  (specificity*100))\n",
        "print (\"Precision:  %.2f%%\"  %  (p*100))\n",
        "print (\"Recall:  %.2f%%\"  %  (r*100))\n",
        "print (\"F1_score: %.2f%%\"  %  (f*100))\n",
        "print (\"AUC: %.2f%%\"  %  (auc*100))\n",
        "import csv\n",
        "with open('train10.csv', 'w', newline=None) as file:\n",
        "    writer = csv.writer(file)\n",
        "    writer.writerow([\"{:.2f}\".format(accuracy*100),\"{:.2f}\".format(p*100),\"{:.2f}\".format(sensitivity*100),\"{:.2f}\".format(specificity*100),\"{:.2f}\".format(f*100),\"{:.2f}\".format(auc*100)])\n",
        "    # writer.writerow([p*100])\n",
        "    # writer.writerow([sensitivity*100])\n",
        "    # writer.writerow([specificity*100])\n",
        "    # writer.writerow([f*100])\n",
        "    # writer.writerow([auc*100])\n"
      ],
      "execution_count": null,
      "outputs": [
        {
          "output_type": "stream",
          "text": [
            "[1, 2, 3, 4, 10, 12, 14]\n",
            "---------------------- ADABoost Classifier without SFS Feature Selection------------------\n",
            "Accuracy:    79.06%\n",
            "Sensitivity:   81.98%\n",
            "Specificity:  76.21%\n",
            "Precision:  77.12%\n",
            "Recall:  81.98%\n",
            "F1_score: 79.48%\n",
            "AUC: 79.10%\n",
            "---------------------- ADABoost Classifier with SFS Feature Selection------------------\n",
            "Accuracy:    80.62%\n",
            "Sensitivity:   83.33%\n",
            "Specificity:  77.97%\n",
            "Precision:  78.72%\n",
            "Recall:  83.33%\n",
            "F1_score: 80.96%\n",
            "AUC: 80.65%\n"
          ],
          "name": "stdout"
        }
      ]
    },
    {
      "cell_type": "code",
      "metadata": {
        "id": "gdTUniMA9bWd",
        "colab": {
          "base_uri": "https://localhost:8080/",
          "height": 51
        },
        "outputId": "7d61f526-b7e0-458c-ebb2-dbee27ceed2d"
      },
      "source": [
        "confusion_matrix(y_test, y_predadb)"
      ],
      "execution_count": null,
      "outputs": [
        {
          "output_type": "execute_result",
          "data": {
            "text/plain": [
              "array([[177,  50],\n",
              "       [ 37, 185]])"
            ]
          },
          "metadata": {
            "tags": []
          },
          "execution_count": 692
        }
      ]
    },
    {
      "cell_type": "code",
      "metadata": {
        "id": "hlMCZOlz93O0",
        "colab": {
          "base_uri": "https://localhost:8080/",
          "height": 170
        },
        "outputId": "69268bea-4c4c-4e41-b6f2-62cbfeac96a7"
      },
      "source": [
        "from sklearn.metrics import classification_report\n",
        "print(classification_report(y_test,y_predadb))"
      ],
      "execution_count": null,
      "outputs": [
        {
          "output_type": "stream",
          "text": [
            "              precision    recall  f1-score   support\n",
            "\n",
            "           0       0.83      0.78      0.80       227\n",
            "           1       0.79      0.83      0.81       222\n",
            "\n",
            "    accuracy                           0.81       449\n",
            "   macro avg       0.81      0.81      0.81       449\n",
            "weighted avg       0.81      0.81      0.81       449\n",
            "\n"
          ],
          "name": "stdout"
        }
      ]
    },
    {
      "cell_type": "markdown",
      "metadata": {
        "id": "5o_xWPNq1sr6"
      },
      "source": [
        "#MLP Classifier"
      ]
    },
    {
      "cell_type": "code",
      "metadata": {
        "id": "tZe8W8-11qk0"
      },
      "source": [
        "#Initializing the MLPClassifier\n",
        "classifier = MLPClassifier(hidden_layer_sizes=(150,100,50), max_iter=500,activation = 'relu',solver='adam',random_state=13,validation_fraction=0.2)"
      ],
      "execution_count": null,
      "outputs": []
    },
    {
      "cell_type": "code",
      "metadata": {
        "id": "lSGQ9BdM9P56",
        "colab": {
          "base_uri": "https://localhost:8080/",
          "height": 153
        },
        "outputId": "9549c041-0c82-46ee-94e2-8f83b2038670"
      },
      "source": [
        "classifier.fit(X_train, y_train)"
      ],
      "execution_count": null,
      "outputs": [
        {
          "output_type": "execute_result",
          "data": {
            "text/plain": [
              "MLPClassifier(activation='relu', alpha=0.0001, batch_size='auto', beta_1=0.9,\n",
              "              beta_2=0.999, early_stopping=False, epsilon=1e-08,\n",
              "              hidden_layer_sizes=(150, 100, 50), learning_rate='constant',\n",
              "              learning_rate_init=0.001, max_fun=15000, max_iter=500,\n",
              "              momentum=0.9, n_iter_no_change=10, nesterovs_momentum=True,\n",
              "              power_t=0.5, random_state=13, shuffle=True, solver='adam',\n",
              "              tol=0.0001, validation_fraction=0.2, verbose=False,\n",
              "              warm_start=False)"
            ]
          },
          "metadata": {
            "tags": []
          },
          "execution_count": 695
        }
      ]
    },
    {
      "cell_type": "code",
      "metadata": {
        "id": "5duTLwPoiX8Q",
        "colab": {
          "base_uri": "https://localhost:8080/",
          "height": 598
        },
        "outputId": "d247be26-0042-4ab6-c588-50c88d1bf897"
      },
      "source": [
        "from sklearn.neighbors import KNeighborsClassifier\n",
        "from sklearn.linear_model import LinearRegression\n",
        "from mlxtend.feature_selection import SequentialFeatureSelector as SFS\n",
        "#knn = KNeighborsClassifier(n_neighbors=3) # ml_algo used = knn\n",
        "#clf = RandomForestClassifier(n_estimators=1000, n_jobs=-1)\n",
        "#clf = AdaBoostClassifier(n_estimators=100,learning_rate=0.1)\n",
        "clf= MLPClassifier(hidden_layer_sizes=(150,100,50), max_iter=500,activation = 'relu',solver='adam',random_state=14,validation_fraction=0.2)\n",
        "sfs0 = SFS(clf,  \n",
        "           k_features=7, \n",
        "           forward=False, # if forward = True then SFS otherwise SBS\n",
        "           floating=False, \n",
        "           verbose=2,\n",
        "           scoring='accuracy', cv=4)\n",
        "           \n",
        "\n",
        "#after applying sfs fit the data:\n",
        "sfs0.fit(X_train, y_train)\n",
        "sfs0.k_feature_names_  \n"
      ],
      "execution_count": null,
      "outputs": [
        {
          "output_type": "stream",
          "text": [
            "[Parallel(n_jobs=1)]: Using backend SequentialBackend with 1 concurrent workers.\n",
            "[Parallel(n_jobs=1)]: Done   1 out of   1 | elapsed:    3.5s remaining:    0.0s\n",
            "[Parallel(n_jobs=1)]: Done  15 out of  15 | elapsed:  1.1min finished\n",
            "\n",
            "[2020-10-26 20:58:26] Features: 14/7 -- score: 0.8030256500248605[Parallel(n_jobs=1)]: Using backend SequentialBackend with 1 concurrent workers.\n",
            "[Parallel(n_jobs=1)]: Done   1 out of   1 | elapsed:    4.4s remaining:    0.0s\n",
            "[Parallel(n_jobs=1)]: Done  14 out of  14 | elapsed:  1.0min finished\n",
            "\n",
            "[2020-10-26 20:59:27] Features: 13/7 -- score: 0.803976192565295[Parallel(n_jobs=1)]: Using backend SequentialBackend with 1 concurrent workers.\n",
            "[Parallel(n_jobs=1)]: Done   1 out of   1 | elapsed:    3.8s remaining:    0.0s\n",
            "[Parallel(n_jobs=1)]: Done  13 out of  13 | elapsed:   54.0s finished\n",
            "\n",
            "[2020-10-26 21:00:21] Features: 12/7 -- score: 0.8087435289988594[Parallel(n_jobs=1)]: Using backend SequentialBackend with 1 concurrent workers.\n",
            "[Parallel(n_jobs=1)]: Done   1 out of   1 | elapsed:    2.5s remaining:    0.0s\n",
            "[Parallel(n_jobs=1)]: Done  12 out of  12 | elapsed:   39.5s finished\n",
            "\n",
            "[2020-10-26 21:01:01] Features: 11/7 -- score: 0.805902869176099[Parallel(n_jobs=1)]: Using backend SequentialBackend with 1 concurrent workers.\n",
            "[Parallel(n_jobs=1)]: Done   1 out of   1 | elapsed:    3.2s remaining:    0.0s\n",
            "[Parallel(n_jobs=1)]: Done  11 out of  11 | elapsed:   39.3s finished\n",
            "\n",
            "[2020-10-26 21:01:40] Features: 10/7 -- score: 0.804937702904273[Parallel(n_jobs=1)]: Using backend SequentialBackend with 1 concurrent workers.\n",
            "[Parallel(n_jobs=1)]: Done   1 out of   1 | elapsed:    5.7s remaining:    0.0s\n",
            "[Parallel(n_jobs=1)]: Done  10 out of  10 | elapsed:   53.8s finished\n",
            "\n",
            "[2020-10-26 21:02:34] Features: 9/7 -- score: 0.8183366967915533[Parallel(n_jobs=1)]: Using backend SequentialBackend with 1 concurrent workers.\n",
            "[Parallel(n_jobs=1)]: Done   1 out of   1 | elapsed:    6.1s remaining:    0.0s\n",
            "[Parallel(n_jobs=1)]: Done   9 out of   9 | elapsed:   48.8s finished\n",
            "\n",
            "[2020-10-26 21:03:23] Features: 8/7 -- score: 0.8211992922114006[Parallel(n_jobs=1)]: Using backend SequentialBackend with 1 concurrent workers.\n",
            "[Parallel(n_jobs=1)]: Done   1 out of   1 | elapsed:    4.6s remaining:    0.0s\n",
            "[Parallel(n_jobs=1)]: Done   8 out of   8 | elapsed:   39.3s finished\n",
            "\n",
            "[2020-10-26 21:04:02] Features: 7/7 -- score: 0.8231150010236612"
          ],
          "name": "stderr"
        },
        {
          "output_type": "execute_result",
          "data": {
            "text/plain": [
              "('1', '2', '3', '8', '12', '13', '14')"
            ]
          },
          "metadata": {
            "tags": []
          },
          "execution_count": 696
        }
      ]
    },
    {
      "cell_type": "code",
      "metadata": {
        "id": "pSo1jBXi9U2i",
        "colab": {
          "base_uri": "https://localhost:8080/",
          "height": 170
        },
        "outputId": "083c5f03-18d7-4a06-c438-417ee0eabc3f"
      },
      "source": [
        "feat_cols = list(sfs0.k_feature_idx_)\n",
        "print(feat_cols)\n",
        "classifier= MLPClassifier(hidden_layer_sizes=(150,100,50), max_iter=500,activation = 'relu',alpha=1e-5,solver='adam',random_state=16)\n",
        "classifier.fit(X_train, y_train)\n",
        "\n",
        "\n",
        "y_predmlp = classifier.predict(X_test)\n",
        "accuracy_score(y_test,y_predmlp)\n",
        "p=precision_score(y_test, y_predmlp)\n",
        "r=recall_score(y_test, y_predmlp)\n",
        "f=f1_score(y_test, y_predmlp)\n",
        "auc=roc_auc_score(y_test, y_predmlp)\n",
        "\n",
        "sensitivity, specificity, accuracy = calculate_sensitivity_specificity(y_test, y_predmlp)\n",
        "print(\"------------ MPL classifier Results without Feature selection-------------------\")\n",
        "\n",
        "print (\"Accuracy:    %.2f%%\"  %  (accuracy*100))\n",
        "print (\"Sensitivity:   %.2f%%\"  %  (sensitivity*100))\n",
        "print (\"Specificity:  %.2f%%\"  %  (specificity*100))\n",
        "print (\"Precision:  %.2f%%\"  %  (p*100))\n",
        "print (\"Recall:  %.2f%%\"  %  (r*100))\n",
        "print (\"F1_score: %.2f%%\"  %  (f*100))\n",
        "print (\"AUC: %.2f%%\"  %  (auc*100))\n"
      ],
      "execution_count": null,
      "outputs": [
        {
          "output_type": "stream",
          "text": [
            "[1, 2, 3, 8, 12, 13, 14]\n",
            "------------ MPL classifier Results without Feature selection-------------------\n",
            "Accuracy:    78.40%\n",
            "Sensitivity:   83.78%\n",
            "Specificity:  73.13%\n",
            "Precision:  75.30%\n",
            "Recall:  83.78%\n",
            "F1_score: 79.32%\n",
            "AUC: 78.46%\n"
          ],
          "name": "stdout"
        }
      ]
    },
    {
      "cell_type": "code",
      "metadata": {
        "id": "gc5_QA_EBR8d",
        "colab": {
          "base_uri": "https://localhost:8080/",
          "height": 153
        },
        "outputId": "737d6c16-97f2-4f09-ff10-8dfa6fb78a56"
      },
      "source": [
        "classifier1 = MLPClassifier(hidden_layer_sizes=(30,20,20), max_iter=500,activation = 'relu',alpha=1e-5,solver='adam',random_state=16)\n",
        "\n",
        "classifier1.fit(X_train[:,feat_cols], y_train)\n",
        "y_predmlp1 = classifier1.predict(X_test[:,feat_cols])\n",
        "\n",
        "accuracy_score(y_test,y_predmlp1)\n",
        "p=precision_score(y_test, y_predmlp1)\n",
        "r=recall_score(y_test, y_predmlp1)\n",
        "f=f1_score(y_test, y_predmlp1)\n",
        "auc=roc_auc_score(y_test, y_predmlp1)\n",
        "sensitivity, specificity, accuracy = calculate_sensitivity_specificity(y_test, y_predmlp1)\n",
        "print(\"------------ MPL classifier Results with Feature selection-------------------\")\n",
        "\n",
        "print (\"Accuracy:    %.2f%%\"  %  (accuracy*100))\n",
        "print (\"Sensitivity:   %.2f%%\"  %  (sensitivity*100))\n",
        "print (\"Specificity:  %.2f%%\"  %  (specificity*100))\n",
        "print (\"Precision:  %.2f%%\"  %  (p*100))\n",
        "print (\"Recall:  %.2f%%\"  %  (r*100))\n",
        "print (\"F1_score: %.2f%%\"  %  (f*100))\n",
        "print (\"AUC: %.2f%%\"  %  (auc*100))\n",
        "\n",
        "with open('train10.csv', 'a+', newline=None) as file:\n",
        "    writer = csv.writer(file)\n",
        "    writer.writerow([\"{:.2f}\".format(accuracy*100),\"{:.2f}\".format(p*100),\"{:.2f}\".format(sensitivity*100),\"{:.2f}\".format(specificity*100),\"{:.2f}\".format(f*100),\"{:.2f}\".format(auc*100)])"
      ],
      "execution_count": null,
      "outputs": [
        {
          "output_type": "stream",
          "text": [
            "------------ MPL classifier Results with Feature selection-------------------\n",
            "Accuracy:    80.18%\n",
            "Sensitivity:   82.43%\n",
            "Specificity:  77.97%\n",
            "Precision:  78.54%\n",
            "Recall:  82.43%\n",
            "F1_score: 80.44%\n",
            "AUC: 80.20%\n"
          ],
          "name": "stdout"
        }
      ]
    },
    {
      "cell_type": "markdown",
      "metadata": {
        "id": "aFE-RmyujEBG"
      },
      "source": [
        "#XGBoost Classifier"
      ]
    },
    {
      "cell_type": "code",
      "metadata": {
        "id": "bebdkqQPlIdK",
        "colab": {
          "base_uri": "https://localhost:8080/",
          "height": 598
        },
        "outputId": "d1f7d59d-6995-45f7-d7fb-3c93f35674be"
      },
      "source": [
        "from xgboost import XGBClassifier\n",
        "clf = XGBClassifier(learning_rate=0.01,n_estimators=100, random_state=256)\n",
        "sfs2 = SFS(clf,  \n",
        "           k_features=7, \n",
        "           forward=False, # if forward = True then SFS otherwise SBS\n",
        "           floating=False, \n",
        "           verbose=2,\n",
        "           scoring='accuracy',cv=0)\n",
        "           \n",
        "\n",
        "#after applying sfs fit the data:\n",
        "sfs2.fit(X_train, y_train)\n",
        "sfs2.k_feature_names_  \n"
      ],
      "execution_count": null,
      "outputs": [
        {
          "output_type": "stream",
          "text": [
            "[Parallel(n_jobs=1)]: Using backend SequentialBackend with 1 concurrent workers.\n",
            "[Parallel(n_jobs=1)]: Done   1 out of   1 | elapsed:    0.1s remaining:    0.0s\n",
            "[Parallel(n_jobs=1)]: Done  15 out of  15 | elapsed:    0.8s finished\n",
            "\n",
            "[2020-10-26 21:04:05] Features: 14/7 -- score: 0.8126195028680688[Parallel(n_jobs=1)]: Using backend SequentialBackend with 1 concurrent workers.\n",
            "[Parallel(n_jobs=1)]: Done   1 out of   1 | elapsed:    0.1s remaining:    0.0s\n",
            "[Parallel(n_jobs=1)]: Done  14 out of  14 | elapsed:    0.7s finished\n",
            "\n",
            "[2020-10-26 21:04:06] Features: 13/7 -- score: 0.8126195028680688[Parallel(n_jobs=1)]: Using backend SequentialBackend with 1 concurrent workers.\n",
            "[Parallel(n_jobs=1)]: Done   1 out of   1 | elapsed:    0.1s remaining:    0.0s\n",
            "[Parallel(n_jobs=1)]: Done  13 out of  13 | elapsed:    0.6s finished\n",
            "\n",
            "[2020-10-26 21:04:07] Features: 12/7 -- score: 0.8126195028680688[Parallel(n_jobs=1)]: Using backend SequentialBackend with 1 concurrent workers.\n",
            "[Parallel(n_jobs=1)]: Done   1 out of   1 | elapsed:    0.1s remaining:    0.0s\n",
            "[Parallel(n_jobs=1)]: Done  12 out of  12 | elapsed:    0.6s finished\n",
            "\n",
            "[2020-10-26 21:04:07] Features: 11/7 -- score: 0.8126195028680688[Parallel(n_jobs=1)]: Using backend SequentialBackend with 1 concurrent workers.\n",
            "[Parallel(n_jobs=1)]: Done   1 out of   1 | elapsed:    0.0s remaining:    0.0s\n",
            "[Parallel(n_jobs=1)]: Done  11 out of  11 | elapsed:    0.5s finished\n",
            "\n",
            "[2020-10-26 21:04:08] Features: 10/7 -- score: 0.8126195028680688[Parallel(n_jobs=1)]: Using backend SequentialBackend with 1 concurrent workers.\n",
            "[Parallel(n_jobs=1)]: Done   1 out of   1 | elapsed:    0.0s remaining:    0.0s\n",
            "[Parallel(n_jobs=1)]: Done  10 out of  10 | elapsed:    0.5s finished\n",
            "\n",
            "[2020-10-26 21:04:08] Features: 9/7 -- score: 0.8126195028680688[Parallel(n_jobs=1)]: Using backend SequentialBackend with 1 concurrent workers.\n",
            "[Parallel(n_jobs=1)]: Done   1 out of   1 | elapsed:    0.0s remaining:    0.0s\n",
            "[Parallel(n_jobs=1)]: Done   9 out of   9 | elapsed:    0.4s finished\n",
            "\n",
            "[2020-10-26 21:04:09] Features: 8/7 -- score: 0.8126195028680688[Parallel(n_jobs=1)]: Using backend SequentialBackend with 1 concurrent workers.\n",
            "[Parallel(n_jobs=1)]: Done   1 out of   1 | elapsed:    0.0s remaining:    0.0s\n",
            "[Parallel(n_jobs=1)]: Done   8 out of   8 | elapsed:    0.3s finished\n",
            "\n",
            "[2020-10-26 21:04:09] Features: 7/7 -- score: 0.8135755258126195"
          ],
          "name": "stderr"
        },
        {
          "output_type": "execute_result",
          "data": {
            "text/plain": [
              "('0', '1', '2', '3', '5', '12', '14')"
            ]
          },
          "metadata": {
            "tags": []
          },
          "execution_count": 699
        }
      ]
    },
    {
      "cell_type": "code",
      "metadata": {
        "id": "Vffrxv9ljDsy",
        "colab": {
          "base_uri": "https://localhost:8080/",
          "height": 306
        },
        "outputId": "3899a88d-8a5e-48cf-caa9-db5403bc2d62"
      },
      "source": [
        "feat_cols = list(sfs2.k_feature_idx_)\n",
        "print(feat_cols)\n",
        "xgboost = XGBClassifier(learning_rate=0.02,n_estimators=50, random_state=256)\n",
        "xgboost.fit(X_train, y_train)\n",
        "# make predictions for test data\n",
        "predxgboost = xgboost.predict(X_test)\n",
        "#predictions = [round(value) for value in predxgboost]\n",
        "# make predictions for test data\n",
        "accuracy_score(y_test,predxgboost)\n",
        "p=precision_score(y_test, predxgboost)\n",
        "r=recall_score(y_test, predxgboost)\n",
        "f=f1_score(y_test, predxgboost)\n",
        "auc=roc_auc_score(y_test, predxgboost)\n",
        "sensitivity, specificity, accuracy = calculate_sensitivity_specificity(y_test, predxgboost)\n",
        "print(\"-----------------XGBoost Classifier without SFS classifier-----------------------\")\n",
        "\n",
        "print (\"Accuracy:    %.2f%%\"  %  (accuracy*100))\n",
        "print (\"Sensitivity:   %.2f%%\"  %  (sensitivity*100))\n",
        "print (\"Specificity:  %.2f%%\"  %  (specificity*100))\n",
        "print (\"Precision:  %.2f%%\"  %  (p*100))\n",
        "print (\"Recall:  %.2f%%\"  %  (r*100))\n",
        "print (\"F1_score: %.2f%%\"  %  (f*100))\n",
        "print (\"AUC: %.2f%%\"  %  (auc*100))\n",
        "\n",
        "print(\"-----------------XGBoost Classifier with SFS classifier-----------------------\")\n",
        "\n",
        "xgboost1 = XGBClassifier(max_depth=7,learning_rate=0.1,n_estimators=1000,random_state=178, subsample= 0.9,colsample_bytree=1,\n",
        "gamma= 5)\n",
        "#xgboost1 = XGBClassifier(learning_rate=0.01,n_estimators=100,random_state=78,max_depth=12)\n",
        "\n",
        "xgboost1.fit(X_train[:,feat_cols], y_train)\n",
        "# make predictions for test data\n",
        "predxgboost1 = xgboost1.predict(X_test[:,feat_cols])\n",
        "#predictions1 = [round(value) for value in predxgboost]\n",
        "# make predictions for test data\n",
        "accuracy_score(y_test,predxgboost1)\n",
        "p=precision_score(y_test, predxgboost1)\n",
        "r=recall_score(y_test, predxgboost1)\n",
        "f=f1_score(y_test, predxgboost1)\n",
        "auc=roc_auc_score(y_test, predxgboost1)\n",
        "sensitivity, specificity, accuracy = calculate_sensitivity_specificity(y_test, predxgboost1)\n",
        "print (\"Accuracy:    %.2f%%\"  %  (accuracy*100))\n",
        "print (\"Sensitivity:   %.2f%%\"  %  (sensitivity*100))\n",
        "print (\"Specificity:  %.2f%%\"  %  (specificity*100))\n",
        "print (\"Precision:  %.2f%%\"  %  (p*100))\n",
        "print (\"Recall:  %.2f%%\"  %  (r*100))\n",
        "print (\"F1_score: %.2f%%\"  %  (f*100))\n",
        "print (\"AUC: %.2f%%\"  %  (auc*100))\n",
        "with open('train10.csv', 'a+', newline=None) as file:\n",
        "    writer = csv.writer(file)\n",
        "    writer.writerow([\"{:.2f}\".format(accuracy*100),\"{:.2f}\".format(p*100),\"{:.2f}\".format(sensitivity*100),\"{:.2f}\".format(specificity*100),\"{:.2f}\".format(f*100),\"{:.2f}\".format(auc*100)])"
      ],
      "execution_count": null,
      "outputs": [
        {
          "output_type": "stream",
          "text": [
            "[0, 1, 2, 3, 5, 12, 14]\n",
            "-----------------XGBoost Classifier without SFS classifier-----------------------\n",
            "Accuracy:    80.40%\n",
            "Sensitivity:   83.33%\n",
            "Specificity:  77.53%\n",
            "Precision:  78.39%\n",
            "Recall:  83.33%\n",
            "F1_score: 80.79%\n",
            "AUC: 80.43%\n",
            "-----------------XGBoost Classifier with SFS classifier-----------------------\n",
            "Accuracy:    81.96%\n",
            "Sensitivity:   82.43%\n",
            "Specificity:  81.50%\n",
            "Precision:  81.33%\n",
            "Recall:  82.43%\n",
            "F1_score: 81.88%\n",
            "AUC: 81.97%\n"
          ],
          "name": "stdout"
        }
      ]
    },
    {
      "cell_type": "markdown",
      "metadata": {
        "id": "We2iIsjDXFST"
      },
      "source": [
        "#SVM"
      ]
    },
    {
      "cell_type": "code",
      "metadata": {
        "id": "QYIbvZhMoSo0",
        "colab": {
          "base_uri": "https://localhost:8080/",
          "height": 598
        },
        "outputId": "8c337c1f-079a-4ff3-b8e0-acacf049047c"
      },
      "source": [
        "from sklearn import svm\n",
        "clf = svm.SVC(kernel='linear') # Linear Kernel\n",
        "sfs3 = SFS(clf,  \n",
        "           k_features=7, \n",
        "           forward=False, # if forward = True then SFS otherwise SBS\n",
        "           floating=False, \n",
        "           verbose=2,\n",
        "           scoring='accuracy',cv=0)\n",
        "           \n",
        "\n",
        "#after applying sfs fit the data:\n",
        "sfs3.fit(X_train, y_train)\n",
        "sfs3.k_feature_names_"
      ],
      "execution_count": null,
      "outputs": [
        {
          "output_type": "stream",
          "text": [
            "[Parallel(n_jobs=1)]: Using backend SequentialBackend with 1 concurrent workers.\n",
            "[Parallel(n_jobs=1)]: Done   1 out of   1 | elapsed:    0.1s remaining:    0.0s\n",
            "[Parallel(n_jobs=1)]: Done  15 out of  15 | elapsed:    1.2s finished\n",
            "\n",
            "[2020-10-26 21:04:11] Features: 14/7 -- score: 0.7944550669216062[Parallel(n_jobs=1)]: Using backend SequentialBackend with 1 concurrent workers.\n",
            "[Parallel(n_jobs=1)]: Done   1 out of   1 | elapsed:    0.0s remaining:    0.0s\n",
            "[Parallel(n_jobs=1)]: Done  14 out of  14 | elapsed:    0.3s finished\n",
            "\n",
            "[2020-10-26 21:04:12] Features: 13/7 -- score: 0.7954110898661568[Parallel(n_jobs=1)]: Using backend SequentialBackend with 1 concurrent workers.\n",
            "[Parallel(n_jobs=1)]: Done   1 out of   1 | elapsed:    0.0s remaining:    0.0s\n",
            "[Parallel(n_jobs=1)]: Done  13 out of  13 | elapsed:    0.2s finished\n",
            "\n",
            "[2020-10-26 21:04:12] Features: 12/7 -- score: 0.7954110898661568[Parallel(n_jobs=1)]: Using backend SequentialBackend with 1 concurrent workers.\n",
            "[Parallel(n_jobs=1)]: Done   1 out of   1 | elapsed:    0.0s remaining:    0.0s\n",
            "[Parallel(n_jobs=1)]: Done  12 out of  12 | elapsed:    0.2s finished\n",
            "\n",
            "[2020-10-26 21:04:12] Features: 11/7 -- score: 0.7954110898661568[Parallel(n_jobs=1)]: Using backend SequentialBackend with 1 concurrent workers.\n",
            "[Parallel(n_jobs=1)]: Done   1 out of   1 | elapsed:    0.0s remaining:    0.0s\n",
            "[Parallel(n_jobs=1)]: Done  11 out of  11 | elapsed:    0.2s finished\n",
            "\n",
            "[2020-10-26 21:04:12] Features: 10/7 -- score: 0.7944550669216062[Parallel(n_jobs=1)]: Using backend SequentialBackend with 1 concurrent workers.\n",
            "[Parallel(n_jobs=1)]: Done   1 out of   1 | elapsed:    0.0s remaining:    0.0s\n",
            "[Parallel(n_jobs=1)]: Done  10 out of  10 | elapsed:    0.2s finished\n",
            "\n",
            "[2020-10-26 21:04:12] Features: 9/7 -- score: 0.7944550669216062[Parallel(n_jobs=1)]: Using backend SequentialBackend with 1 concurrent workers.\n",
            "[Parallel(n_jobs=1)]: Done   1 out of   1 | elapsed:    0.0s remaining:    0.0s\n",
            "[Parallel(n_jobs=1)]: Done   9 out of   9 | elapsed:    0.1s finished\n",
            "\n",
            "[2020-10-26 21:04:12] Features: 8/7 -- score: 0.7954110898661568[Parallel(n_jobs=1)]: Using backend SequentialBackend with 1 concurrent workers.\n",
            "[Parallel(n_jobs=1)]: Done   1 out of   1 | elapsed:    0.0s remaining:    0.0s\n",
            "[Parallel(n_jobs=1)]: Done   8 out of   8 | elapsed:    0.1s finished\n",
            "\n",
            "[2020-10-26 21:04:13] Features: 7/7 -- score: 0.7954110898661568"
          ],
          "name": "stderr"
        },
        {
          "output_type": "execute_result",
          "data": {
            "text/plain": [
              "('1', '2', '4', '5', '6', '10', '12')"
            ]
          },
          "metadata": {
            "tags": []
          },
          "execution_count": 701
        }
      ]
    },
    {
      "cell_type": "code",
      "metadata": {
        "id": "7JrpPMNIXE8X",
        "colab": {
          "base_uri": "https://localhost:8080/",
          "height": 306
        },
        "outputId": "3d72142d-d37b-481a-878e-bfc990eefe06"
      },
      "source": [
        "feat_cols = list(sfs3.k_feature_idx_)\n",
        "print(feat_cols)\n",
        "#Create a svm Classifier\n",
        "SVM = svm.SVC( C=0.01, kernel='linear')\n",
        "\n",
        "#Train the model using the training sets\n",
        "SVM.fit(X_train, y_train)\n",
        "\n",
        "#Predict the response for test dataset\n",
        "y_predsvm = SVM.predict(X_test)\n",
        "p=precision_score(y_test, y_predsvm)\n",
        "r=recall_score(y_test, y_predsvm)\n",
        "f=f1_score(y_test, y_predsvm)\n",
        "auc=roc_auc_score(y_test, y_predsvm)\n",
        "sensitivity, specificity, accuracy = calculate_sensitivity_specificity(y_test, y_predsvm)\n",
        "print(\"-------------------- SVM classifier without SFS Feature Selection -----------------\")\n",
        "print (\"Accuracy:    %.2f%%\"  %  (accuracy*100))\n",
        "print (\"Sensitivity:   %.2f%%\"  %  (sensitivity*100))\n",
        "print (\"Specificity:  %.2f%%\"  %  (specificity*100))\n",
        "print (\"Precision:  %.2f%%\"  %  (p*100))\n",
        "print (\"Recall:  %.2f%%\"  %  (r*100))\n",
        "print (\"F1_score: %.2f%%\"  %  (f*100))\n",
        "print (\"AUC: %.2f%%\"  %  (auc*100))\n",
        "\n",
        "\n",
        "print(\"------------------SVM classifier with SFS Feature Selection -----------------\")\n",
        "\n",
        "#Create a svm Classifier\n",
        "SVM1 = svm.SVC(kernel='linear',C=0.01) # Linear Kernel\n",
        "\n",
        "#Train the model using the training sets\n",
        "SVM1.fit(X_train[:, feat_cols], y_train)\n",
        "\n",
        "#Predict the response for test dataset\n",
        "y_predsvm1 = SVM1.predict(X_test[:,feat_cols])\n",
        "p=precision_score(y_test, y_predsvm1)\n",
        "r=recall_score(y_test, y_predsvm1)\n",
        "f=f1_score(y_test, y_predsvm1)\n",
        "auc=roc_auc_score(y_test, y_predsvm1)\n",
        "\n",
        "sensitivity, specificity, accuracy = calculate_sensitivity_specificity(y_test, y_predsvm1)\n",
        "print (\"Accuracy:    %.2f%%\"  %  (accuracy*100))\n",
        "print (\"Sensitivity:   %.2f%%\"  %  (sensitivity*100))\n",
        "print (\"Specificity:  %.2f%%\"  %  (specificity*100))\n",
        "print (\"Precision:  %.2f%%\"  %  (p*100))\n",
        "print (\"Recall:  %.2f%%\"  %  (r*100))\n",
        "print (\"F1_score: %.2f%%\"  %  (f*100))\n",
        "print (\"AUC: %.2f%%\"  %  (auc*100))\n",
        "with open('train10.csv', 'a+', newline=None) as file:\n",
        "    writer = csv.writer(file)\n",
        "    writer.writerow([\"{:.2f}\".format(accuracy*100),\"{:.2f}\".format(p*100),\"{:.2f}\".format(sensitivity*100),\"{:.2f}\".format(specificity*100),\"{:.2f}\".format(f*100),\"{:.2f}\".format(auc*100)])"
      ],
      "execution_count": null,
      "outputs": [
        {
          "output_type": "stream",
          "text": [
            "[1, 2, 4, 5, 6, 10, 12]\n",
            "-------------------- SVM classifier without SFS Feature Selection -----------------\n",
            "Accuracy:    76.61%\n",
            "Sensitivity:   75.68%\n",
            "Specificity:  77.53%\n",
            "Precision:  76.71%\n",
            "Recall:  75.68%\n",
            "F1_score: 76.19%\n",
            "AUC: 76.60%\n",
            "------------------SVM classifier with SFS Feature Selection -----------------\n",
            "Accuracy:    76.61%\n",
            "Sensitivity:   75.68%\n",
            "Specificity:  77.53%\n",
            "Precision:  76.71%\n",
            "Recall:  75.68%\n",
            "F1_score: 76.19%\n",
            "AUC: 76.60%\n"
          ],
          "name": "stdout"
        }
      ]
    },
    {
      "cell_type": "markdown",
      "metadata": {
        "id": "kWImtV6FYgy_"
      },
      "source": [
        "#Random Forest Classifier\n",
        "\n"
      ]
    },
    {
      "cell_type": "code",
      "metadata": {
        "id": "dq1Fy6eupjHN",
        "colab": {
          "base_uri": "https://localhost:8080/",
          "height": 598
        },
        "outputId": "c2aa09b6-d9bf-404a-83c7-f1fd73026df1"
      },
      "source": [
        "clf=RandomForestClassifier(n_estimators=1000,random_state=45,max_depth=4)\n",
        "\n",
        "sfs4 = SFS(clf,  \n",
        "           k_features=7, \n",
        "           forward=False, # if forward = True then SFS otherwise SBS\n",
        "           floating=False, \n",
        "           verbose=2,\n",
        "           scoring='accuracy',cv=4)\n",
        "           \n",
        "\n",
        "#after applying sfs fit the data:\n",
        "sfs4.fit(X_train, y_train)\n",
        "sfs4.k_feature_names_  "
      ],
      "execution_count": null,
      "outputs": [
        {
          "output_type": "stream",
          "text": [
            "[Parallel(n_jobs=1)]: Using backend SequentialBackend with 1 concurrent workers.\n",
            "[Parallel(n_jobs=1)]: Done   1 out of   1 | elapsed:    4.9s remaining:    0.0s\n",
            "[Parallel(n_jobs=1)]: Done  15 out of  15 | elapsed:  1.2min finished\n",
            "\n",
            "[2020-10-26 21:05:30] Features: 14/7 -- score: 0.8097123512035331[Parallel(n_jobs=1)]: Using backend SequentialBackend with 1 concurrent workers.\n",
            "[Parallel(n_jobs=1)]: Done   1 out of   1 | elapsed:    4.8s remaining:    0.0s\n",
            "[Parallel(n_jobs=1)]: Done  14 out of  14 | elapsed:  1.1min finished\n",
            "\n",
            "[2020-10-26 21:06:37] Features: 13/7 -- score: 0.8106775174753589[Parallel(n_jobs=1)]: Using backend SequentialBackend with 1 concurrent workers.\n",
            "[Parallel(n_jobs=1)]: Done   1 out of   1 | elapsed:    5.0s remaining:    0.0s\n",
            "[Parallel(n_jobs=1)]: Done  13 out of  13 | elapsed:  1.0min finished\n",
            "\n",
            "[2020-10-26 21:07:39] Features: 12/7 -- score: 0.8125932262876194[Parallel(n_jobs=1)]: Using backend SequentialBackend with 1 concurrent workers.\n",
            "[Parallel(n_jobs=1)]: Done   1 out of   1 | elapsed:    4.7s remaining:    0.0s\n",
            "[Parallel(n_jobs=1)]: Done  12 out of  12 | elapsed:   56.9s finished\n",
            "\n",
            "[2020-10-26 21:08:36] Features: 11/7 -- score: 0.8106775174753589[Parallel(n_jobs=1)]: Using backend SequentialBackend with 1 concurrent workers.\n",
            "[Parallel(n_jobs=1)]: Done   1 out of   1 | elapsed:    4.7s remaining:    0.0s\n",
            "[Parallel(n_jobs=1)]: Done  11 out of  11 | elapsed:   51.8s finished\n",
            "\n",
            "[2020-10-26 21:09:27] Features: 10/7 -- score: 0.8125859144219238[Parallel(n_jobs=1)]: Using backend SequentialBackend with 1 concurrent workers.\n",
            "[Parallel(n_jobs=1)]: Done   1 out of   1 | elapsed:    4.7s remaining:    0.0s\n",
            "[Parallel(n_jobs=1)]: Done  10 out of  10 | elapsed:   47.4s finished\n",
            "\n",
            "[2020-10-26 21:10:15] Features: 9/7 -- score: 0.8173678745868795[Parallel(n_jobs=1)]: Using backend SequentialBackend with 1 concurrent workers.\n",
            "[Parallel(n_jobs=1)]: Done   1 out of   1 | elapsed:    4.7s remaining:    0.0s\n",
            "[Parallel(n_jobs=1)]: Done   9 out of   9 | elapsed:   42.3s finished\n",
            "\n",
            "[2020-10-26 21:10:57] Features: 8/7 -- score: 0.8173678745868795[Parallel(n_jobs=1)]: Using backend SequentialBackend with 1 concurrent workers.\n",
            "[Parallel(n_jobs=1)]: Done   1 out of   1 | elapsed:    4.7s remaining:    0.0s\n",
            "[Parallel(n_jobs=1)]: Done   8 out of   8 | elapsed:   37.5s finished\n",
            "\n",
            "[2020-10-26 21:11:35] Features: 7/7 -- score: 0.8221388669532919"
          ],
          "name": "stderr"
        },
        {
          "output_type": "execute_result",
          "data": {
            "text/plain": [
              "('1', '2', '3', '4', '9', '12', '14')"
            ]
          },
          "metadata": {
            "tags": []
          },
          "execution_count": 703
        }
      ]
    },
    {
      "cell_type": "code",
      "metadata": {
        "id": "Gf_hpdVjpxot",
        "colab": {
          "base_uri": "https://localhost:8080/",
          "height": 34
        },
        "outputId": "26d377fd-0940-48ad-b2a2-4058f006b16d"
      },
      "source": [
        "feat_cols = list(sfs4.k_feature_idx_)\n",
        "print(feat_cols)"
      ],
      "execution_count": null,
      "outputs": [
        {
          "output_type": "stream",
          "text": [
            "[1, 2, 3, 4, 9, 12, 14]\n"
          ],
          "name": "stdout"
        }
      ]
    },
    {
      "cell_type": "code",
      "metadata": {
        "id": "G9GFUR_jY-ga",
        "colab": {
          "base_uri": "https://localhost:8080/",
          "height": 289
        },
        "outputId": "6f2ae09e-5197-4de5-e361-8d27a40cb1b5"
      },
      "source": [
        "#Import Random Forest Model\n",
        "from sklearn.ensemble import RandomForestClassifier\n",
        "\n",
        "#Create a Gaussian Classifier\n",
        "RFC=RandomForestClassifier(n_estimators=50,random_state=45,max_depth=8)\n",
        "#Train the model using the training sets y_pred=clf.predict(X_test)\n",
        "RFC.fit(X_train,y_train)\n",
        "y_predrf=RFC.predict(X_test)\n",
        "p=precision_score(y_test, y_predrf)\n",
        "r=recall_score(y_test, y_predrf)\n",
        "f=f1_score(y_test, y_predrf)\n",
        "auc=roc_auc_score(y_test, y_predrf)\n",
        "sensitivity, specificity, accuracy = calculate_sensitivity_specificity(y_test, y_predrf)\n",
        "print(\"------------Random Forest Classifier without SFS feature selection--------------------\")\n",
        "print (\"Accuracy:    %.2f%%\"  %  (accuracy*100))\n",
        "print (\"Sensitivity:   %.2f%%\"  %  (sensitivity*100))\n",
        "print (\"Specificity:  %.2f%%\"  %  (specificity*100))\n",
        "print (\"Precision:  %.2f%%\"  %  (p*100))\n",
        "print (\"Recall:  %.2f%%\"  %  (r*100))\n",
        "print (\"F1_score: %.2f%%\"  %  (f*100))\n",
        "print (\"AUC: %.2f%%\"  %  (auc*100))\n",
        "\n",
        "print(\"------------Random Forest Classifier with SFS feature selection--------------------\")\n",
        "\n",
        "#Create a Gaussian Classifier\n",
        "RFC1=RandomForestClassifier(n_estimators=1000,random_state=450,max_depth=5,min_samples_leaf=4)\n",
        "\n",
        "#RFC1=RandomForestClassifier(n_estimators=2000,random_state=450)\n",
        "#Train the model using the training sets y_pred=clf.predict(X_test)\n",
        "RFC1.fit(X_train[:,feat_cols],y_train)\n",
        "y_predrf1=RFC1.predict(X_test[:,feat_cols])\n",
        "p=precision_score(y_test, y_predrf1)\n",
        "r=recall_score(y_test, y_predrf1)\n",
        "f=f1_score(y_test, y_predrf1)\n",
        "auc=roc_auc_score(y_test, y_predrf1)\n",
        "\n",
        "sensitivity, specificity, accuracy = calculate_sensitivity_specificity(y_test, y_predrf1)\n",
        "print (\"Accuracy:    %.2f%%\"  %  (accuracy*100))\n",
        "print (\"Sensitivity:   %.2f%%\"  %  (sensitivity*100))\n",
        "print (\"Specificity:  %.2f%%\"  %  (specificity*100))\n",
        "print (\"Precision:  %.2f%%\"  %  (p*100))\n",
        "print (\"Recall:  %.2f%%\"  %  (r*100))\n",
        "print (\"F1_score: %.2f%%\"  %  (f*100))\n",
        "print (\"AUC: %.2f%%\"  %  (auc*100))\n",
        "with open('train10.csv', 'a+', newline=None) as file:\n",
        "    writer = csv.writer(file)\n",
        "    writer.writerow([\"{:.2f}\".format(accuracy*100),\"{:.2f}\".format(p*100),\"{:.2f}\".format(sensitivity*100),\"{:.2f}\".format(specificity*100),\"{:.2f}\".format(f*100),\"{:.2f}\".format(auc*100)])"
      ],
      "execution_count": null,
      "outputs": [
        {
          "output_type": "stream",
          "text": [
            "------------Random Forest Classifier without SFS feature selection--------------------\n",
            "Accuracy:    78.84%\n",
            "Sensitivity:   81.53%\n",
            "Specificity:  76.21%\n",
            "Precision:  77.02%\n",
            "Recall:  81.53%\n",
            "F1_score: 79.21%\n",
            "AUC: 78.87%\n",
            "------------Random Forest Classifier with SFS feature selection--------------------\n",
            "Accuracy:    81.51%\n",
            "Sensitivity:   82.43%\n",
            "Specificity:  80.62%\n",
            "Precision:  80.62%\n",
            "Recall:  82.43%\n",
            "F1_score: 81.51%\n",
            "AUC: 81.52%\n"
          ],
          "name": "stdout"
        }
      ]
    },
    {
      "cell_type": "markdown",
      "metadata": {
        "id": "NWS-ZGCCafC3"
      },
      "source": [
        "#Logistic Regression"
      ]
    },
    {
      "cell_type": "code",
      "metadata": {
        "id": "xbws_mglWi4x",
        "colab": {
          "base_uri": "https://localhost:8080/",
          "height": 598
        },
        "outputId": "ef932203-7fcb-4580-f144-b1391273fcc3"
      },
      "source": [
        "clf= LogisticRegression()\n",
        "\n",
        "sfs5 = SFS(clf,  \n",
        "           k_features=7, \n",
        "           forward=False, # if forward = True then SFS otherwise SBS\n",
        "           floating=False, \n",
        "           verbose=2,\n",
        "           scoring='accuracy',cv=4)\n",
        "           \n",
        "\n",
        "#after applying sfs fit the data:\n",
        "sfs5.fit(X_train, y_train)\n",
        "sfs5.k_feature_names_  "
      ],
      "execution_count": null,
      "outputs": [
        {
          "output_type": "stream",
          "text": [
            "[Parallel(n_jobs=1)]: Using backend SequentialBackend with 1 concurrent workers.\n",
            "[Parallel(n_jobs=1)]: Done   1 out of   1 | elapsed:    0.1s remaining:    0.0s\n",
            "[Parallel(n_jobs=1)]: Done  15 out of  15 | elapsed:    1.9s finished\n",
            "\n",
            "[2020-10-26 21:11:38] Features: 14/7 -- score: 0.8039652247667516[Parallel(n_jobs=1)]: Using backend SequentialBackend with 1 concurrent workers.\n",
            "[Parallel(n_jobs=1)]: Done   1 out of   1 | elapsed:    0.1s remaining:    0.0s\n",
            "[Parallel(n_jobs=1)]: Done  14 out of  14 | elapsed:    1.7s finished\n",
            "\n",
            "[2020-10-26 21:11:40] Features: 13/7 -- score: 0.8068387879851424[Parallel(n_jobs=1)]: Using backend SequentialBackend with 1 concurrent workers.\n",
            "[Parallel(n_jobs=1)]: Done   1 out of   1 | elapsed:    0.1s remaining:    0.0s\n",
            "[Parallel(n_jobs=1)]: Done  13 out of  13 | elapsed:    1.7s finished\n",
            "\n",
            "[2020-10-26 21:11:42] Features: 12/7 -- score: 0.8077966423912726[Parallel(n_jobs=1)]: Using backend SequentialBackend with 1 concurrent workers.\n",
            "[Parallel(n_jobs=1)]: Done   1 out of   1 | elapsed:    0.1s remaining:    0.0s\n",
            "[Parallel(n_jobs=1)]: Done  12 out of  12 | elapsed:    0.9s finished\n",
            "\n",
            "[2020-10-26 21:11:43] Features: 11/7 -- score: 0.808754496797403[Parallel(n_jobs=1)]: Using backend SequentialBackend with 1 concurrent workers.\n",
            "[Parallel(n_jobs=1)]: Done   1 out of   1 | elapsed:    0.1s remaining:    0.0s\n",
            "[Parallel(n_jobs=1)]: Done  11 out of  11 | elapsed:    0.8s finished\n",
            "\n",
            "[2020-10-26 21:11:43] Features: 10/7 -- score: 0.8097086952706853[Parallel(n_jobs=1)]: Using backend SequentialBackend with 1 concurrent workers.\n",
            "[Parallel(n_jobs=1)]: Done   1 out of   1 | elapsed:    0.1s remaining:    0.0s\n",
            "[Parallel(n_jobs=1)]: Done  10 out of  10 | elapsed:    0.7s finished\n",
            "\n",
            "[2020-10-26 21:11:44] Features: 9/7 -- score: 0.8116207481500979[Parallel(n_jobs=1)]: Using backend SequentialBackend with 1 concurrent workers.\n",
            "[Parallel(n_jobs=1)]: Done   1 out of   1 | elapsed:    0.1s remaining:    0.0s\n",
            "[Parallel(n_jobs=1)]: Done   9 out of   9 | elapsed:    0.6s finished\n",
            "\n",
            "[2020-10-26 21:11:45] Features: 8/7 -- score: 0.8125749466233805[Parallel(n_jobs=1)]: Using backend SequentialBackend with 1 concurrent workers.\n",
            "[Parallel(n_jobs=1)]: Done   1 out of   1 | elapsed:    0.1s remaining:    0.0s\n",
            "[Parallel(n_jobs=1)]: Done   8 out of   8 | elapsed:    0.5s finished\n",
            "\n",
            "[2020-10-26 21:11:45] Features: 7/7 -- score: 0.8116170922172501"
          ],
          "name": "stderr"
        },
        {
          "output_type": "execute_result",
          "data": {
            "text/plain": [
              "('2', '3', '4', '5', '6', '12', '14')"
            ]
          },
          "metadata": {
            "tags": []
          },
          "execution_count": 706
        }
      ]
    },
    {
      "cell_type": "code",
      "metadata": {
        "id": "nFB6X7A-ZEYa",
        "colab": {
          "base_uri": "https://localhost:8080/",
          "height": 306
        },
        "outputId": "d7a7e2d7-1260-4a99-a06b-cc78c7a0d6ef"
      },
      "source": [
        "feat_cols = list(sfs5.k_feature_idx_)\n",
        "print(feat_cols)\n",
        "lr = LogisticRegression(random_state=69,C=0.1)\n",
        "lr.fit(X_train,y_train)\n",
        "y_predlr=lr.predict(X_test)\n",
        "accuracy_score(y_test,y_predlr)\n",
        "p=precision_score(y_test, y_predlr)\n",
        "r=recall_score(y_test, y_predlr)\n",
        "f=f1_score(y_test, y_predlr)\n",
        "auc=roc_auc_score(y_test, y_predlr)\n",
        "\n",
        "sensitivity, specificity, accuracy = calculate_sensitivity_specificity(y_test, y_predlr)\n",
        "print(\"------------Logistic Regression Classifier without SFS feature selection--------------------\")\n",
        "\n",
        "print (\"Accuracy:    %.2f%%\"  %  (accuracy*100))\n",
        "print (\"Sensitivity:   %.2f%%\"  %  (sensitivity*100))\n",
        "print (\"Specificity:  %.2f%%\"  %  (specificity*100))\n",
        "print (\"Precision:  %.2f%%\"  %  (p*100))\n",
        "print (\"Recall:  %.2f%%\"  %  (r*100))\n",
        "print (\"F1_score: %.2f%%\"  %  (f*100))\n",
        "print (\"AUC: %.2f%%\"  %  (auc*100))\n",
        "\n",
        "print(\"------------Logistic Regression Classifier with SFS feature selection--------------------\")\n",
        "\n",
        "lr1 = LogisticRegression(random_state=999)\n",
        "lr1.fit(X_train[:,feat_cols],y_train)\n",
        "y_predlr1=lr1.predict(X_test[:,feat_cols])\n",
        "p=precision_score(y_test, y_predlr1)\n",
        "r=recall_score(y_test, y_predlr1)\n",
        "f=f1_score(y_test, y_predlr1)\n",
        "auc=roc_auc_score(y_test, y_predlr1)\n",
        "\n",
        "sensitivity, specificity, accuracy = calculate_sensitivity_specificity(y_test, y_predlr1)\n",
        "print (\"Accuracy:    %.2f%%\"  %  (accuracy*100))\n",
        "print (\"Sensitivity:   %.2f%%\"  %  (sensitivity*100))\n",
        "print (\"Specificity:  %.2f%%\"  %  (specificity*100))\n",
        "print (\"Precision:  %.2f%%\"  %  (p*100))\n",
        "print (\"Recall:  %.2f%%\"  %  (r*100))\n",
        "print (\"F1_score: %.2f%%\"  %  (f*100))\n",
        "print (\"AUC: %.2f%%\"  %  (auc*100))\n",
        "with open('train10.csv', 'a+', newline=None) as file:\n",
        "    writer = csv.writer(file)\n",
        "    writer.writerow([\"{:.2f}\".format(accuracy*100),\"{:.2f}\".format(p*100),\"{:.2f}\".format(sensitivity*100),\"{:.2f}\".format(specificity*100),\"{:.2f}\".format(f*100),\"{:.2f}\".format(auc*100)])\n",
        "\n"
      ],
      "execution_count": null,
      "outputs": [
        {
          "output_type": "stream",
          "text": [
            "[2, 3, 4, 5, 6, 12, 14]\n",
            "------------Logistic Regression Classifier without SFS feature selection--------------------\n",
            "Accuracy:    78.84%\n",
            "Sensitivity:   79.28%\n",
            "Specificity:  78.41%\n",
            "Precision:  78.22%\n",
            "Recall:  79.28%\n",
            "F1_score: 78.75%\n",
            "AUC: 78.85%\n",
            "------------Logistic Regression Classifier with SFS feature selection--------------------\n",
            "Accuracy:    77.73%\n",
            "Sensitivity:   75.23%\n",
            "Specificity:  80.18%\n",
            "Precision:  78.77%\n",
            "Recall:  75.23%\n",
            "F1_score: 76.96%\n",
            "AUC: 77.70%\n"
          ],
          "name": "stdout"
        }
      ]
    },
    {
      "cell_type": "markdown",
      "metadata": {
        "id": "TBNLsN32ii04"
      },
      "source": [
        "\n",
        "#Decision Tree classifier"
      ]
    },
    {
      "cell_type": "code",
      "metadata": {
        "id": "CVoNucFo8vXs",
        "colab": {
          "base_uri": "https://localhost:8080/",
          "height": 598
        },
        "outputId": "3555d240-f1b2-45a2-f484-0c86b9c0e544"
      },
      "source": [
        "from mlxtend.feature_selection import SequentialFeatureSelector as SFS\n",
        "clf = DecisionTreeClassifier()\n",
        "sfs7 = SFS(clf,  \n",
        "           k_features=7, \n",
        "           forward=False, # if forward = True then SFS otherwise SBS\n",
        "           floating=False, \n",
        "           verbose=2,\n",
        "           scoring='accuracy',cv=4)\n",
        "           \n",
        "\n",
        "#after applying sfs fit the data:\n",
        "sfs7.fit(X_train, y_train)\n",
        "sfs7.k_feature_names_  "
      ],
      "execution_count": null,
      "outputs": [
        {
          "output_type": "stream",
          "text": [
            "[Parallel(n_jobs=1)]: Using backend SequentialBackend with 1 concurrent workers.\n",
            "[Parallel(n_jobs=1)]: Done   1 out of   1 | elapsed:    0.0s remaining:    0.0s\n",
            "[Parallel(n_jobs=1)]: Done  15 out of  15 | elapsed:    0.2s finished\n",
            "\n",
            "[2020-10-26 21:11:45] Features: 14/7 -- score: 0.7829509227574507[Parallel(n_jobs=1)]: Using backend SequentialBackend with 1 concurrent workers.\n",
            "[Parallel(n_jobs=1)]: Done   1 out of   1 | elapsed:    0.0s remaining:    0.0s\n",
            "[Parallel(n_jobs=1)]: Done  14 out of  14 | elapsed:    0.1s finished\n",
            "\n",
            "[2020-10-26 21:11:45] Features: 13/7 -- score: 0.7934690415606447[Parallel(n_jobs=1)]: Using backend SequentialBackend with 1 concurrent workers.\n",
            "[Parallel(n_jobs=1)]: Done   1 out of   1 | elapsed:    0.0s remaining:    0.0s\n",
            "[Parallel(n_jobs=1)]: Done  13 out of  13 | elapsed:    0.1s finished\n",
            "\n",
            "[2020-10-26 21:11:45] Features: 12/7 -- score: 0.7992161679974262[Parallel(n_jobs=1)]: Using backend SequentialBackend with 1 concurrent workers.\n",
            "[Parallel(n_jobs=1)]: Done   1 out of   1 | elapsed:    0.0s remaining:    0.0s\n",
            "[Parallel(n_jobs=1)]: Done  12 out of  12 | elapsed:    0.1s finished\n",
            "\n",
            "[2020-10-26 21:11:46] Features: 11/7 -- score: 0.8040054400280775[Parallel(n_jobs=1)]: Using backend SequentialBackend with 1 concurrent workers.\n",
            "[Parallel(n_jobs=1)]: Done   1 out of   1 | elapsed:    0.0s remaining:    0.0s\n",
            "[Parallel(n_jobs=1)]: Done  11 out of  11 | elapsed:    0.1s finished\n",
            "\n",
            "[2020-10-26 21:11:46] Features: 10/7 -- score: 0.8078332017197508[Parallel(n_jobs=1)]: Using backend SequentialBackend with 1 concurrent workers.\n",
            "[Parallel(n_jobs=1)]: Done   1 out of   1 | elapsed:    0.0s remaining:    0.0s\n",
            "[Parallel(n_jobs=1)]: Done  10 out of  10 | elapsed:    0.1s finished\n",
            "\n",
            "[2020-10-26 21:11:46] Features: 9/7 -- score: 0.8116536515457283[Parallel(n_jobs=1)]: Using backend SequentialBackend with 1 concurrent workers.\n",
            "[Parallel(n_jobs=1)]: Done   1 out of   1 | elapsed:    0.0s remaining:    0.0s\n",
            "[Parallel(n_jobs=1)]: Done   9 out of   9 | elapsed:    0.0s finished\n",
            "\n",
            "[2020-10-26 21:11:46] Features: 8/7 -- score: 0.815474101371706[Parallel(n_jobs=1)]: Using backend SequentialBackend with 1 concurrent workers.\n",
            "[Parallel(n_jobs=1)]: Done   1 out of   1 | elapsed:    0.0s remaining:    0.0s\n",
            "[Parallel(n_jobs=1)]: Done   8 out of   8 | elapsed:    0.0s finished\n",
            "\n",
            "[2020-10-26 21:11:46] Features: 7/7 -- score: 0.8202487496709661"
          ],
          "name": "stderr"
        },
        {
          "output_type": "execute_result",
          "data": {
            "text/plain": [
              "('1', '2', '3', '4', '10', '12', '14')"
            ]
          },
          "metadata": {
            "tags": []
          },
          "execution_count": 708
        }
      ]
    },
    {
      "cell_type": "code",
      "metadata": {
        "id": "JRmTmFbpinIY",
        "colab": {
          "base_uri": "https://localhost:8080/",
          "height": 326
        },
        "outputId": "a13f12d9-e037-4722-b24e-0b8a0a6c6147"
      },
      "source": [
        "feat_cols = list(sfs7.k_feature_idx_)\n",
        "print(feat_cols)\n",
        "\n",
        "\n",
        "dtc = DecisionTreeClassifier(max_depth=4,random_state=0)\n",
        "dtc.fit(X_train,y_train)\n",
        "pred_dtc=dtc.predict(X_test)\n",
        "p=precision_score(y_test, pred_dtc)\n",
        "r=recall_score(y_test, pred_dtc)\n",
        "f=f1_score(y_test, pred_dtc)\n",
        "auc=roc_auc_score(y_test, pred_dtc)\n",
        "\n",
        "sensitivity, specificity, accuracy = calculate_sensitivity_specificity(y_test, pred_dtc)\n",
        "print(\"-----------------Decision Tree Classifier without SFS classifier-----------------------\")\n",
        "\n",
        "print (\"Accuracy:    %.2f%%\"  %  (accuracy*100))\n",
        "print (\"Sensitivity:   %.2f%%\"  %  (sensitivity*100))\n",
        "print (\"Specificity:  %.2f%%\"  %  (specificity*100))\n",
        "print (\"Precision:  %.2f%%\"  %  (p*100))\n",
        "print (\"Recall:  %.2f%%\"  %  (r*100))\n",
        "print (\"F1_score: %.2f%%\"  %  (f*100))\n",
        "print (\"AUC: %.2f%%\"  %  (auc*100))\n",
        "\n",
        "print(\"-----------------Decision Tree Classifier without SFS classifier-----------------------\")\n",
        "\n",
        "dtc1 = DecisionTreeClassifier(random_state=0, max_depth=4)\n",
        "dtc1.fit(X_train[:,feat_cols],y_train)\n",
        "pred_dtc1=dtc1.predict(X_test[:,feat_cols])\n",
        "p=precision_score(y_test, pred_dtc1)\n",
        "r=recall_score(y_test, pred_dtc1)\n",
        "f=f1_score(y_test, pred_dtc1)\n",
        "auc=roc_auc_score(y_test, pred_dtc1)\n",
        "\n",
        "sensitivity, specificity, accuracy = calculate_sensitivity_specificity(y_test, pred_dtc1)\n",
        "print (\"Accuracy:    %.2f%%\"  %  (accuracy*100))\n",
        "print (\"Sensitivity:   %.2f%%\"  %  (sensitivity*100))\n",
        "print (\"Specificity:  %.2f%%\"  %  (specificity*100))\n",
        "print (\"Precision:  %.2f%%\"  %  (p*100))\n",
        "print (\"Recall:  %.2f%%\"  %  (r*100))\n",
        "print (\"F1_score: %.2f%%\"  %  (f*100))\n",
        "print (\"AUC: %.2f%%\"  %  (auc*100))\n",
        "with open('train10.csv', 'a+', newline=None) as file:\n",
        "    writer = csv.writer(file)\n",
        "    writer.writerow([\"{:.2f}\".format(accuracy*100),\"{:.2f}\".format(p*100),\"{:.2f}\".format(sensitivity*100),\"{:.2f}\".format(specificity*100),\"{:.2f}\".format(f*100),\"{:.2f}\".format(auc*100)])"
      ],
      "execution_count": null,
      "outputs": [
        {
          "output_type": "stream",
          "text": [
            "[1, 2, 3, 4, 10, 12, 14]\n",
            "-----------------Decision Tree Classifier without SFS classifier-----------------------\n",
            "Accuracy:    80.18%\n",
            "Sensitivity:   83.33%\n",
            "Specificity:  77.09%\n",
            "Precision:  78.06%\n",
            "Recall:  83.33%\n",
            "F1_score: 80.61%\n",
            "AUC: 80.21%\n",
            "-----------------Decision Tree Classifier without SFS classifier-----------------------\n",
            "Accuracy:    80.40%\n",
            "Sensitivity:   84.23%\n",
            "Specificity:  76.65%\n",
            "Precision:  77.92%\n",
            "Recall:  84.23%\n",
            "F1_score: 80.95%\n",
            "AUC: 80.44%\n"
          ],
          "name": "stdout"
        }
      ]
    },
    {
      "cell_type": "markdown",
      "metadata": {
        "id": "XXPx1B29juII"
      },
      "source": [
        "# Gradient Boosting"
      ]
    },
    {
      "cell_type": "code",
      "metadata": {
        "id": "Gw-upta3aRtF",
        "colab": {
          "base_uri": "https://localhost:8080/",
          "height": 598
        },
        "outputId": "2de2adac-eed0-4d93-a183-7e67dc2b669c"
      },
      "source": [
        "\n",
        "clf = GradientBoostingClassifier(learning_rate=0.001,n_estimators=50,random_state=6)\n",
        "\n",
        "sfs8 = SFS(clf,  \n",
        "           k_features=7, \n",
        "           forward=False, # if forward = True then SFS otherwise SBS\n",
        "           floating=False, \n",
        "           verbose=2,\n",
        "           scoring='accuracy',cv=4)\n",
        "           \n",
        "\n",
        "#after applying sfs fit the data:\n",
        "sfs8.fit(X_train, y_train)\n",
        "sfs8.k_feature_names_  "
      ],
      "execution_count": null,
      "outputs": [
        {
          "output_type": "stream",
          "text": [
            "[Parallel(n_jobs=1)]: Using backend SequentialBackend with 1 concurrent workers.\n",
            "[Parallel(n_jobs=1)]: Done   1 out of   1 | elapsed:    0.2s remaining:    0.0s\n",
            "[Parallel(n_jobs=1)]: Done  15 out of  15 | elapsed:    2.6s finished\n",
            "\n",
            "[2020-10-26 21:11:49] Features: 14/7 -- score: 0.796331636980492[Parallel(n_jobs=1)]: Using backend SequentialBackend with 1 concurrent workers.\n",
            "[Parallel(n_jobs=1)]: Done   1 out of   1 | elapsed:    0.2s remaining:    0.0s\n",
            "[Parallel(n_jobs=1)]: Done  14 out of  14 | elapsed:    2.4s finished\n",
            "\n",
            "[2020-10-26 21:11:51] Features: 13/7 -- score: 0.7982400339270568[Parallel(n_jobs=1)]: Using backend SequentialBackend with 1 concurrent workers.\n",
            "[Parallel(n_jobs=1)]: Done   1 out of   1 | elapsed:    0.1s remaining:    0.0s\n",
            "[Parallel(n_jobs=1)]: Done  13 out of  13 | elapsed:    1.8s finished\n",
            "\n",
            "[2020-10-26 21:11:53] Features: 12/7 -- score: 0.7982619695241437[Parallel(n_jobs=1)]: Using backend SequentialBackend with 1 concurrent workers.\n",
            "[Parallel(n_jobs=1)]: Done   1 out of   1 | elapsed:    0.1s remaining:    0.0s\n",
            "[Parallel(n_jobs=1)]: Done  12 out of  12 | elapsed:    1.6s finished\n",
            "\n",
            "[2020-10-26 21:11:55] Features: 11/7 -- score: 0.7982619695241437[Parallel(n_jobs=1)]: Using backend SequentialBackend with 1 concurrent workers.\n",
            "[Parallel(n_jobs=1)]: Done   1 out of   1 | elapsed:    0.1s remaining:    0.0s\n",
            "[Parallel(n_jobs=1)]: Done  11 out of  11 | elapsed:    1.5s finished\n",
            "\n",
            "[2020-10-26 21:11:56] Features: 10/7 -- score: 0.7982619695241437[Parallel(n_jobs=1)]: Using backend SequentialBackend with 1 concurrent workers.\n",
            "[Parallel(n_jobs=1)]: Done   1 out of   1 | elapsed:    0.1s remaining:    0.0s\n",
            "[Parallel(n_jobs=1)]: Done  10 out of  10 | elapsed:    1.3s finished\n",
            "\n",
            "[2020-10-26 21:11:57] Features: 9/7 -- score: 0.7982619695241437[Parallel(n_jobs=1)]: Using backend SequentialBackend with 1 concurrent workers.\n",
            "[Parallel(n_jobs=1)]: Done   1 out of   1 | elapsed:    0.1s remaining:    0.0s\n",
            "[Parallel(n_jobs=1)]: Done   9 out of   9 | elapsed:    1.2s finished\n",
            "\n",
            "[2020-10-26 21:11:59] Features: 8/7 -- score: 0.7982619695241437[Parallel(n_jobs=1)]: Using backend SequentialBackend with 1 concurrent workers.\n",
            "[Parallel(n_jobs=1)]: Done   1 out of   1 | elapsed:    0.1s remaining:    0.0s\n",
            "[Parallel(n_jobs=1)]: Done   8 out of   8 | elapsed:    1.0s finished\n",
            "\n",
            "[2020-10-26 21:12:00] Features: 7/7 -- score: 0.7982619695241437"
          ],
          "name": "stderr"
        },
        {
          "output_type": "execute_result",
          "data": {
            "text/plain": [
              "('1', '2', '3', '4', '5', '6', '12')"
            ]
          },
          "metadata": {
            "tags": []
          },
          "execution_count": 710
        }
      ]
    },
    {
      "cell_type": "code",
      "metadata": {
        "id": "ZIdcAcLualX0",
        "colab": {
          "base_uri": "https://localhost:8080/",
          "height": 34
        },
        "outputId": "ed528895-657e-46ee-cdfc-ddefc43e7a03"
      },
      "source": [
        "feat_cols = list(sfs8.k_feature_idx_)\n",
        "print(feat_cols)"
      ],
      "execution_count": null,
      "outputs": [
        {
          "output_type": "stream",
          "text": [
            "[1, 2, 3, 4, 5, 6, 12]\n"
          ],
          "name": "stdout"
        }
      ]
    },
    {
      "cell_type": "code",
      "metadata": {
        "id": "IEPFO6gNjv1C",
        "colab": {
          "base_uri": "https://localhost:8080/",
          "height": 289
        },
        "outputId": "c3027034-e788-44b3-984d-65e0a4664c10"
      },
      "source": [
        "GBC=GradientBoostingClassifier(learning_rate=0.001,n_estimators=50,random_state=6)\n",
        "GBC.fit(X_train, y_train)\n",
        "y_test_pred = GBC.predict(X_test)\n",
        "#accuracy_score(y_test,y_test_pred)\n",
        "p=precision_score(y_test, y_test_pred)\n",
        "r=recall_score(y_test, y_test_pred)\n",
        "f=f1_score(y_test, y_test_pred)\n",
        "auc=roc_auc_score(y_test, y_test_pred)\n",
        "\n",
        "sensitivity, specificity, accuracy = calculate_sensitivity_specificity(y_test, y_test_pred)\n",
        "print(\"-----------------Gradient Boosting Classifier without SFS feature  selection -----------------------\")\n",
        "\n",
        "print (\"Accuracy:    %.2f%%\"  %  (accuracy*100))\n",
        "print (\"Sensitivity:   %.2f%%\"  %  (sensitivity*100))\n",
        "print (\"Specificity:  %.2f%%\"  %  (specificity*100))\n",
        "print (\"Precision:  %.2f%%\"  %  (p*100))\n",
        "print (\"Recall:  %.2f%%\"  %  (r*100))\n",
        "print (\"F1_score: %.2f%%\"  %  (f*100))\n",
        "print (\"AUC: %.2f%%\"  %  (auc*100))\n",
        "\n",
        "\n",
        "GBC1=GradientBoostingClassifier(learning_rate=0.009,n_estimators=50,random_state=36,max_depth=6)\n",
        "GBC1.fit(X_train[:, feat_cols], y_train)\n",
        "y_test_pred1 = GBC1.predict(X_test[:, feat_cols])\n",
        "#accuracy_score(y_test,y_test_pred)\n",
        "p=precision_score(y_test, y_test_pred1)\n",
        "r=recall_score(y_test, y_test_pred1)\n",
        "f=f1_score(y_test, y_test_pred1)\n",
        "auc=roc_auc_score(y_test, y_test_pred1)\n",
        "\n",
        "sensitivity, specificity, accuracy = calculate_sensitivity_specificity(y_test, y_test_pred1)\n",
        "print(\"-----------------Gradient Boosting Classifier with SFS Feature selection-----------------------\")\n",
        "\n",
        "print (\"Accuracy:    %.2f%%\"  %  (accuracy*100))\n",
        "print (\"Sensitivity:   %.2f%%\"  %  (sensitivity*100))\n",
        "print (\"Specificity:  %.2f%%\"  %  (specificity*100))\n",
        "print (\"Precision:  %.2f%%\"  %  (p*100))\n",
        "print (\"Recall:  %.2f%%\"  %  (r*100))\n",
        "print (\"F1_score: %.2f%%\"  %  (f*100))\n",
        "print (\"AUC: %.2f%%\"  %  (auc*100))\n",
        "with open('train10.csv', 'a+', newline=None) as file:\n",
        "    writer = csv.writer(file)\n",
        "    writer.writerow([\"{:.2f}\".format(accuracy*100),\"{:.2f}\".format(p*100),\"{:.2f}\".format(sensitivity*100),\"{:.2f}\".format(specificity*100),\"{:.2f}\".format(f*100),\"{:.2f}\".format(auc*100)])"
      ],
      "execution_count": null,
      "outputs": [
        {
          "output_type": "stream",
          "text": [
            "-----------------Gradient Boosting Classifier without SFS feature  selection -----------------------\n",
            "Accuracy:    80.40%\n",
            "Sensitivity:   86.04%\n",
            "Specificity:  74.89%\n",
            "Precision:  77.02%\n",
            "Recall:  86.04%\n",
            "F1_score: 81.28%\n",
            "AUC: 80.46%\n",
            "-----------------Gradient Boosting Classifier with SFS Feature selection-----------------------\n",
            "Accuracy:    77.06%\n",
            "Sensitivity:   76.58%\n",
            "Specificity:  77.53%\n",
            "Precision:  76.92%\n",
            "Recall:  76.58%\n",
            "F1_score: 76.75%\n",
            "AUC: 77.05%\n"
          ],
          "name": "stdout"
        }
      ]
    },
    {
      "cell_type": "markdown",
      "metadata": {
        "id": "AH3emWG3Vu7-"
      },
      "source": [
        "# Area Under Curve Analysis : Without SFS\n",
        "\n"
      ]
    },
    {
      "cell_type": "code",
      "metadata": {
        "id": "9QROYTJpnqH6"
      },
      "source": [
        ""
      ],
      "execution_count": null,
      "outputs": []
    },
    {
      "cell_type": "code",
      "metadata": {
        "id": "8vAiAqxJVu7_",
        "colab": {
          "base_uri": "https://localhost:8080/",
          "height": 442
        },
        "outputId": "7f0f631f-ce8a-4f51-b711-1480c33e0689"
      },
      "source": [
        "plt.rcParams[\"figure.figsize\"] = [10,6]\n",
        "disp = plot_roc_curve(classifier,X_test,y_test)\n",
        "plt.title(' Area Under Curve Analysis\\n Without SFS Feature Selector')\n",
        "plot_roc_curve(abc,X_test,y_test,ax=disp.ax_)\n",
        "plot_roc_curve(xgboost,X_test,y_test,ax=disp.ax_)\n",
        "plot_roc_curve(SVM,X_test,y_test,ax=disp.ax_)\n",
        "plot_roc_curve(RFC,X_test,y_test,ax=disp.ax_)\n",
        "plot_roc_curve(lr,X_test,y_test,ax=disp.ax_)\n",
        "plot_roc_curve(dtc,X_test,y_test,ax=disp.ax_)\n",
        "plot_roc_curve(GBC,X_test,y_test,ax=disp.ax_)"
      ],
      "execution_count": null,
      "outputs": [
        {
          "output_type": "execute_result",
          "data": {
            "text/plain": [
              "<sklearn.metrics._plot.roc_curve.RocCurveDisplay at 0x7fcd2198f940>"
            ]
          },
          "metadata": {
            "tags": []
          },
          "execution_count": 713
        },
        {
          "output_type": "display_data",
          "data": {
            "image/png": "[encoded data removed]",
            "text/plain": [
              "<Figure size 720x432 with 1 Axes>"
            ]
          },
          "metadata": {
            "tags": []
          }
        }
      ]
    },
    {
      "cell_type": "markdown",
      "metadata": {
        "id": "GEqY13Q1bysN"
      },
      "source": [
        "\n"
      ]
    },
    {
      "cell_type": "markdown",
      "metadata": {
        "id": "IdltkUspb2Fv"
      },
      "source": [
        "# Area Under Curve Analysis : With SFS"
      ]
    },
    {
      "cell_type": "code",
      "metadata": {
        "id": "_V8bI7jRPcJ2",
        "colab": {
          "base_uri": "https://localhost:8080/",
          "height": 442
        },
        "outputId": "5a699345-d595-4663-e49f-e3967c431a7d"
      },
      "source": [
        "plt.rcParams[\"figure.figsize\"] = [10,6]\n",
        "feat_cols = list(sfs0.k_feature_idx_)\n",
        "disp = plot_roc_curve(classifier1,X_test[:, feat_cols],y_test)\n",
        "feat_cols = list(sfs1.k_feature_idx_)\n",
        "plt.title(' Area Under Curve Analysis\\n With SFS Feature Selector')\n",
        "plot_roc_curve(abc1,X_test[:, feat_cols],y_test,ax=disp.ax_)\n",
        "feat_cols = list(sfs2.k_feature_idx_)\n",
        "plot_roc_curve(xgboost1,X_test[:, feat_cols],y_test,ax=disp.ax_)\n",
        "feat_cols = list(sfs3.k_feature_idx_)\n",
        "plot_roc_curve(SVM1,X_test[:, feat_cols],y_test,ax=disp.ax_)\n",
        "feat_cols = list(sfs4.k_feature_idx_)\n",
        "plot_roc_curve(RFC1,X_test[:, feat_cols],y_test,ax=disp.ax_)\n",
        "feat_cols = list(sfs5.k_feature_idx_)\n",
        "plot_roc_curve(lr1,X_test[:, feat_cols],y_test,ax=disp.ax_)\n",
        "feat_cols = list(sfs7.k_feature_idx_)\n",
        "plot_roc_curve(dtc1,X_test[:, feat_cols],y_test,ax=disp.ax_)\n",
        "feat_cols = list(sfs8.k_feature_idx_)\n",
        "plot_roc_curve(GBC1,X_test[:, feat_cols],y_test,ax=disp.ax_)"
      ],
      "execution_count": null,
      "outputs": [
        {
          "output_type": "execute_result",
          "data": {
            "text/plain": [
              "<sklearn.metrics._plot.roc_curve.RocCurveDisplay at 0x7fcd218f7588>"
            ]
          },
          "metadata": {
            "tags": []
          },
          "execution_count": 714
        },
        {
          "output_type": "display_data",
          "data": {
            "image/png": "[encoded data removed]",
            "text/plain": [
              "<Figure size 720x432 with 1 Axes>"
            ]
          },
          "metadata": {
            "tags": []
          }
        }
      ]
    },
    {
      "cell_type": "code",
      "metadata": {
        "id": "5U0pQKB0pkq0"
      },
      "source": [
        ""
      ],
      "execution_count": null,
      "outputs": []
    }
  ]
}